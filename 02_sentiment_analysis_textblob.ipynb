{
 "cells": [
  {
   "cell_type": "markdown",
   "metadata": {
    "collapsed": true,
    "pycharm": {
     "name": "#%% md\n"
    }
   },
   "source": [
    "# Sentiment analysis with TextBlob\n",
    "\n",
    "For more granular data analysis in Part 2 (average sentiment, linear regression) \n",
    "sentiment analysis was also performed using [TextBlob](https://textblob.readthedocs.io/en/dev/) (TextBlob, 2020).\n",
    "\n",
    "## Sentiment Analysis\n",
    "\n",
    "Iterate through the database and apply sentiment analysis to each tweet using TextBlob.\n"
   ]
  },
  {
   "cell_type": "code",
   "execution_count": 2,
   "outputs": [],
   "source": [
    "from brexittweets.config import sqlite_db_path\n",
    "from brexittweets.custom_funcs.sqlite_functions import size_of_database, get_data\n",
    "import sqlite3\n",
    "from textblob import TextBlob\n",
    "\n",
    "# Connect to the database\n",
    "db = sqlite3.connect(sqlite_db_path)\n",
    "cursor = db.cursor()\n",
    "\n",
    "# Get length of the db\n",
    "dbLength = size_of_database(cursor)"
   ],
   "metadata": {
    "collapsed": false,
    "pycharm": {
     "name": "#%%\n",
     "is_executing": false
    }
   }
  },
  {
   "cell_type": "code",
   "execution_count": null,
   "outputs": [],
   "source": [
    "# Apply sentiment analysis to Tweets in database\n",
    "for index in range(1,dbLength+1):\n",
    "    # Get tweet from the db\n",
    "    tweet = get_data('text', index, cursor)\n",
    "    # Apply TextBlob sentiment analysis\n",
    "    tweet_sentiment = TextBlob(tweet).sentiment.polarity\n",
    "    # Save sentiment to database\n",
    "    update_statement = f\"UPDATE tweets SET sentiment_tb={tweet_sentiment} WHERE id = {index};\"\n",
    "    cursor.execute(update_statement)\n",
    "    db.commit()\n"
   ],
   "metadata": {
    "collapsed": false,
    "pycharm": {
     "name": "#%%\n"
    }
   }
  },
  {
   "cell_type": "markdown",
   "source": [
    "## Check results\n",
    "\n",
    "Read back the first five rows of the database to test that the analysis worked."
   ],
   "metadata": {
    "collapsed": false
   }
  },
  {
   "cell_type": "code",
   "execution_count": 5,
   "outputs": [
    {
     "data": {
      "text/plain": "   id                                               text  sentiment_TextBlob\n0   1   Ben Mellor want the Tories out He rocks up su...                0.00\n1   2  Richard Ayoade doesnt even sound like he belie...                0.40\n2   3          If sht was chocolate no body would starve                0.00\n3   4               Let me guess you also voted brexit ?                0.00\n4   5  Join our webinar with speakers from Hogan Love...                0.25",
      "text/html": "<div>\n<style scoped>\n    .dataframe tbody tr th:only-of-type {\n        vertical-align: middle;\n    }\n\n    .dataframe tbody tr th {\n        vertical-align: top;\n    }\n\n    .dataframe thead th {\n        text-align: right;\n    }\n</style>\n<table border=\"1\" class=\"dataframe\">\n  <thead>\n    <tr style=\"text-align: right;\">\n      <th></th>\n      <th>id</th>\n      <th>text</th>\n      <th>sentiment_TextBlob</th>\n    </tr>\n  </thead>\n  <tbody>\n    <tr>\n      <th>0</th>\n      <td>1</td>\n      <td>Ben Mellor want the Tories out He rocks up su...</td>\n      <td>0.00</td>\n    </tr>\n    <tr>\n      <th>1</th>\n      <td>2</td>\n      <td>Richard Ayoade doesnt even sound like he belie...</td>\n      <td>0.40</td>\n    </tr>\n    <tr>\n      <th>2</th>\n      <td>3</td>\n      <td>If sht was chocolate no body would starve</td>\n      <td>0.00</td>\n    </tr>\n    <tr>\n      <th>3</th>\n      <td>4</td>\n      <td>Let me guess you also voted brexit ?</td>\n      <td>0.00</td>\n    </tr>\n    <tr>\n      <th>4</th>\n      <td>5</td>\n      <td>Join our webinar with speakers from Hogan Love...</td>\n      <td>0.25</td>\n    </tr>\n  </tbody>\n</table>\n</div>"
     },
     "metadata": {},
     "output_type": "execute_result",
     "execution_count": 5
    }
   ],
   "source": [
    "import pandas as pd\n",
    "\n",
    "test_ids = []\n",
    "test_tweets = []\n",
    "test_sentiments = []\n",
    "\n",
    "# Create a statement to run to test that the sentiment values have been saved to the database.\n",
    "test_statement = 'SELECT id, text, sentiment_tb FROM tweets WHERE id<6;'\n",
    "test_rows = cursor.execute(test_statement)\n",
    "\n",
    "# Iterate through rows to save them to a dataframe\n",
    "for row in test_rows:\n",
    "    test_ids.append(row[0])\n",
    "    test_tweets.append(row[1])\n",
    "    test_sentiments.append(row[2])\n",
    "\n",
    "# Build and view dataframe.\n",
    "df = pd.DataFrame(data = {'id': test_ids,\n",
    "                          'text': test_tweets,\n",
    "                          'sentiment_TextBlob': test_sentiments})\n",
    "df\n"
   ],
   "metadata": {
    "collapsed": false,
    "pycharm": {
     "name": "#%%\n",
     "is_executing": false
    }
   }
  },
  {
   "cell_type": "code",
   "execution_count": 3,
   "outputs": [],
   "source": [
    "# Close the database\n",
    "db.close()"
   ],
   "metadata": {
    "collapsed": false,
    "pycharm": {
     "name": "#%%\n",
     "is_executing": false
    }
   }
  },
  {
   "cell_type": "markdown",
   "source": [
    "## References\n",
    "\n",
    "TextBlob, 2020 'Textblob: Simplified Text Processing' *Textblob 0.15.2 Documentation*, [online] \n",
    "available at [https://textblob.readthedocs.io/](https://textblob.readthedocs.io/). [Accessed 30 March 2020].\n"
   ],
   "metadata": {
    "collapsed": false,
    "pycharm": {
     "name": "#%% md\n"
    }
   }
  }
 ],
 "metadata": {
  "kernelspec": {
   "name": "pycharm-1fb690fb",
   "language": "python",
   "display_name": "PyCharm (brexittweetsproject)"
  },
  "language_info": {
   "codemirror_mode": {
    "name": "ipython",
    "version": 2
   },
   "file_extension": ".py",
   "mimetype": "text/x-python",
   "name": "python",
   "nbconvert_exporter": "python",
   "pygments_lexer": "ipython2",
   "version": "2.7.6"
  },
  "pycharm": {
   "stem_cell": {
    "cell_type": "raw",
    "source": [],
    "metadata": {
     "collapsed": false
    }
   }
  }
 },
 "nbformat": 4,
 "nbformat_minor": 0
}