{
 "cells": [
  {
   "cell_type": "markdown",
   "source": [
    "# Initial data exploration\n",
    "\n",
    "Before developing a linear regression model to investigate the relationship \n",
    "between word count and sentiment (notebook 5) the data was explored to identify \n",
    "and remove outliers.\n",
    "\n",
    "First the data is loaded into a pandas DataFrame."
   ],
   "metadata": {
    "collapsed": false
   }
  },
  {
   "cell_type": "code",
   "execution_count": 1,
   "outputs": [
    {
     "data": {
      "text/plain": "    length  sentiment                                 tweet_preprocessed\nid                                                                      \n1       47       0.00   ben mellor want the tories out he rocks up su...\n2       16       0.40  richard ayoade doesnt even sound like he belie...\n3        8       0.00          if sht was chocolate no body would starve\n4        7       0.00                let me guess you also voted brexit \n5       32       0.25  join our webinar with speakers from hogan love...",
      "text/html": "<div>\n<style scoped>\n    .dataframe tbody tr th:only-of-type {\n        vertical-align: middle;\n    }\n\n    .dataframe tbody tr th {\n        vertical-align: top;\n    }\n\n    .dataframe thead th {\n        text-align: right;\n    }\n</style>\n<table border=\"1\" class=\"dataframe\">\n  <thead>\n    <tr style=\"text-align: right;\">\n      <th></th>\n      <th>length</th>\n      <th>sentiment</th>\n      <th>tweet_preprocessed</th>\n    </tr>\n    <tr>\n      <th>id</th>\n      <th></th>\n      <th></th>\n      <th></th>\n    </tr>\n  </thead>\n  <tbody>\n    <tr>\n      <th>1</th>\n      <td>47</td>\n      <td>0.00</td>\n      <td>ben mellor want the tories out he rocks up su...</td>\n    </tr>\n    <tr>\n      <th>2</th>\n      <td>16</td>\n      <td>0.40</td>\n      <td>richard ayoade doesnt even sound like he belie...</td>\n    </tr>\n    <tr>\n      <th>3</th>\n      <td>8</td>\n      <td>0.00</td>\n      <td>if sht was chocolate no body would starve</td>\n    </tr>\n    <tr>\n      <th>4</th>\n      <td>7</td>\n      <td>0.00</td>\n      <td>let me guess you also voted brexit</td>\n    </tr>\n    <tr>\n      <th>5</th>\n      <td>32</td>\n      <td>0.25</td>\n      <td>join our webinar with speakers from hogan love...</td>\n    </tr>\n  </tbody>\n</table>\n</div>"
     },
     "metadata": {},
     "output_type": "execute_result",
     "execution_count": 1
    }
   ],
   "source": [
    "from brexittweets.custom_funcs.sqlite_functions import create_dataframe_lengths\n",
    "\n",
    "df = create_dataframe_lengths()\n",
    "df.set_index('id', inplace=True)\n",
    "#df.rename(columns={'sentiments_tb': 'sentiment'}, inplace=True)\n",
    "df.head()"
   ],
   "metadata": {
    "collapsed": false,
    "pycharm": {
     "name": "#%%\n",
     "is_executing": false
    }
   }
  },
  {
   "cell_type": "markdown",
   "source": [
    "Look at the spread of values for length and sentiment."
   ],
   "metadata": {
    "collapsed": false
   }
  },
  {
   "cell_type": "code",
   "execution_count": 4,
   "outputs": [
    {
     "data": {
      "text/plain": "             length     sentiment\ncount  10436.000000  10436.000000\nmean      22.689153      0.044569\nstd       14.657494      0.260712\nmin        1.000000     -1.000000\n25%       10.000000      0.000000\n50%       19.000000      0.000000\n75%       35.000000      0.150000\nmax       59.000000      1.000000",
      "text/html": "<div>\n<style scoped>\n    .dataframe tbody tr th:only-of-type {\n        vertical-align: middle;\n    }\n\n    .dataframe tbody tr th {\n        vertical-align: top;\n    }\n\n    .dataframe thead th {\n        text-align: right;\n    }\n</style>\n<table border=\"1\" class=\"dataframe\">\n  <thead>\n    <tr style=\"text-align: right;\">\n      <th></th>\n      <th>length</th>\n      <th>sentiment</th>\n    </tr>\n  </thead>\n  <tbody>\n    <tr>\n      <th>count</th>\n      <td>10436.000000</td>\n      <td>10436.000000</td>\n    </tr>\n    <tr>\n      <th>mean</th>\n      <td>22.689153</td>\n      <td>0.044569</td>\n    </tr>\n    <tr>\n      <th>std</th>\n      <td>14.657494</td>\n      <td>0.260712</td>\n    </tr>\n    <tr>\n      <th>min</th>\n      <td>1.000000</td>\n      <td>-1.000000</td>\n    </tr>\n    <tr>\n      <th>25%</th>\n      <td>10.000000</td>\n      <td>0.000000</td>\n    </tr>\n    <tr>\n      <th>50%</th>\n      <td>19.000000</td>\n      <td>0.000000</td>\n    </tr>\n    <tr>\n      <th>75%</th>\n      <td>35.000000</td>\n      <td>0.150000</td>\n    </tr>\n    <tr>\n      <th>max</th>\n      <td>59.000000</td>\n      <td>1.000000</td>\n    </tr>\n  </tbody>\n</table>\n</div>"
     },
     "metadata": {},
     "output_type": "execute_result",
     "execution_count": 4
    }
   ],
   "source": [
    "df.describe()"
   ],
   "metadata": {
    "collapsed": false,
    "pycharm": {
     "name": "#%%\n",
     "is_executing": false
    }
   }
  },
  {
   "cell_type": "markdown",
   "source": [
    "## Dealing with missing values\n",
    "\n",
    "Check for NaN/empty values"
   ],
   "metadata": {
    "collapsed": false
   }
  },
  {
   "cell_type": "code",
   "execution_count": 3,
   "outputs": [
    {
     "data": {
      "text/plain": "0"
     },
     "metadata": {},
     "output_type": "execute_result",
     "execution_count": 3
    }
   ],
   "source": [
    "missing_values = df[df['sentiment'].isna()]\n",
    "len(missing_values)"
   ],
   "metadata": {
    "collapsed": false,
    "pycharm": {
     "name": "#%%\n",
     "is_executing": false
    }
   }
  },
  {
   "cell_type": "markdown",
   "source": [
    "There are no missing values."
   ],
   "metadata": {
    "collapsed": false
   }
  },
  {
   "cell_type": "markdown",
   "source": [
    "## Dealing with outliers\n",
    "\n",
    "Linear regression is highly sensitive to outliers. \n",
    "Visualise the data to identify any outliers and remove from\n",
    "the data before modelling."
   ],
   "metadata": {
    "collapsed": false
   }
  },
  {
   "cell_type": "code",
   "execution_count": 5,
   "outputs": [
    {
     "data": {
      "text/plain": "<Figure size 432x288 with 1 Axes>",
      "image/png": "[encoded data removed]"
     },
     "metadata": {
      "needs_background": "light"
     },
     "output_type": "display_data"
    }
   ],
   "source": [
    "import matplotlib.pyplot as plt\n",
    "\n",
    "bins = 10\n",
    "freqs, bin_edges, patches  = plt.hist(df['length'], bins=bins)\n",
    "for i in range(bins):\n",
    "    plt.annotate(int(freqs[i]), (bin_edges[i], freqs[i]+20))\n",
    "plt.show()\n"
   ],
   "metadata": {
    "collapsed": false,
    "pycharm": {
     "name": "#%% \n",
     "is_executing": false
    }
   }
  },
  {
   "cell_type": "markdown",
   "source": [
    "The lengths of the tweets do not show a Gaussian pattern, \n",
    "therefore scaling will not be applied.\n",
    "There do not appear to be any outliers."
   ],
   "metadata": {
    "collapsed": false
   }
  },
  {
   "cell_type": "code",
   "execution_count": 6,
   "outputs": [
    {
     "data": {
      "text/plain": "<Figure size 432x288 with 1 Axes>",
      "image/png": "[encoded data removed]"
     },
     "metadata": {
      "needs_background": "light"
     },
     "output_type": "display_data"
    }
   ],
   "source": [
    "freqs, bin_edges, patches = plt.hist(df['sentiment'], bins=bins)\n",
    "for i in range(bins):\n",
    "    plt.annotate(int(freqs[i]), (bin_edges[i], freqs[i]+20))\n",
    "plt.show()"
   ],
   "metadata": {
    "collapsed": false,
    "pycharm": {
     "name": "#%%\n",
     "is_executing": false
    }
   }
  },
  {
   "cell_type": "markdown",
   "source": [
    "The majority of tweets are neutral (-0.1 < sentiment < 0.1). Take a stratified sample to ensure that \n",
    "training data is representative of dataset."
   ],
   "metadata": {
    "collapsed": false,
    "pycharm": {
     "name": "#%% md\n"
    }
   }
  },
  {
   "cell_type": "code",
   "execution_count": 9,
   "outputs": [],
   "source": [
    "# Add column labelling tweets as positive, negative or neutral.\n",
    "\n",
    "from brexittweets.custom_funcs.utils import positive_negative\n",
    "\n",
    "df['label'] = df['sentiment'].apply(positive_negative)\n",
    "\n",
    "df.groupby('label')['label'].count()\n",
    "\n",
    "# Save the pandas DataFrame to use in linear regression task.\n",
    "\n",
    "df.to_pickle('../data/tweet_lengths_df.pkl')\n"
   ],
   "metadata": {
    "collapsed": false,
    "pycharm": {
     "name": "#%%\n",
     "is_executing": false
    }
   }
  },
  {
   "cell_type": "code",
   "execution_count": null,
   "outputs": [],
   "source": [],
   "metadata": {
    "collapsed": false,
    "pycharm": {
     "name": "#%%"
    }
   }
  }
 ],
 "metadata": {
  "kernelspec": {
   "name": "pycharm-1fb690fb",
   "language": "python",
   "display_name": "PyCharm (brexittweetsproject)"
  },
  "language_info": {
   "codemirror_mode": {
    "name": "ipython",
    "version": 2
   },
   "file_extension": ".py",
   "mimetype": "text/x-python",
   "name": "python",
   "nbconvert_exporter": "python",
   "pygments_lexer": "ipython2",
   "version": "2.7.6"
  },
  "pycharm": {
   "stem_cell": {
    "cell_type": "raw",
    "source": [],
    "metadata": {
     "collapsed": false
    }
   }
  }
 },
 "nbformat": 4,
 "nbformat_minor": 0
}