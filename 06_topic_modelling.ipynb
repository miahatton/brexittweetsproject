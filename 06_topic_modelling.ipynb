{
 "cells": [
  {
   "cell_type": "markdown",
   "metadata": {},
   "source": [
    "# Latent Dirichlet Allocation (LDA)\n",
    "\n",
    "In this notebook a `gensim` LDA model is applied to the tweets to identify\n",
    "topics.\n",
    "\n",
    "## Load data\n",
    "\n",
    "Convert the SQLite to csv format."
   ]
  },
  {
   "cell_type": "code",
   "execution_count": 1,
   "metadata": {
    "pycharm": {
     "is_executing": false,
     "name": "#%%\n"
    }
   },
   "outputs": [],
   "source": [
    "from brexittweets.custom_funcs.sqlite_functions import save_to_csv\n",
    "\n",
    "save_to_csv()"
   ]
  },
  {
   "cell_type": "markdown",
   "metadata": {},
   "source": [
    "Read the data from the CSV to a Pandas DataFrame.\n",
    "Separate into training data (df) and a small testing dataset (test_df)."
   ]
  },
  {
   "cell_type": "code",
   "execution_count": 30,
   "metadata": {
    "pycharm": {
     "is_executing": false,
     "name": "#%%\n"
    }
   },
   "outputs": [
    {
     "data": {
      "text/plain": "   tweet_id                                         tweet_text\n0      8004   that and the brexit movie didnt get nearly en...\n1      9494  seeing a poster for an independence march in w...\n2      8563  no worries im sure the eu will spring into act...\n3      7518  yeah brexit britain is fine were all happy i n...\n4      9062                                           posted  ",
      "text/html": "<div>\n<style scoped>\n    .dataframe tbody tr th:only-of-type {\n        vertical-align: middle;\n    }\n\n    .dataframe tbody tr th {\n        vertical-align: top;\n    }\n\n    .dataframe thead th {\n        text-align: right;\n    }\n</style>\n<table border=\"1\" class=\"dataframe\">\n  <thead>\n    <tr style=\"text-align: right;\">\n      <th></th>\n      <th>tweet_id</th>\n      <th>tweet_text</th>\n    </tr>\n  </thead>\n  <tbody>\n    <tr>\n      <th>0</th>\n      <td>8004</td>\n      <td>that and the brexit movie didnt get nearly en...</td>\n    </tr>\n    <tr>\n      <th>1</th>\n      <td>9494</td>\n      <td>seeing a poster for an independence march in w...</td>\n    </tr>\n    <tr>\n      <th>2</th>\n      <td>8563</td>\n      <td>no worries im sure the eu will spring into act...</td>\n    </tr>\n    <tr>\n      <th>3</th>\n      <td>7518</td>\n      <td>yeah brexit britain is fine were all happy i n...</td>\n    </tr>\n    <tr>\n      <th>4</th>\n      <td>9062</td>\n      <td>posted</td>\n    </tr>\n  </tbody>\n</table>\n</div>"
     },
     "metadata": {},
     "output_type": "execute_result",
     "execution_count": 30
    }
   ],
   "source": [
    "import pandas as pd\n",
    "from brexittweets.config import tweets_csv_path\n",
    "\n",
    "df = pd.read_csv(tweets_csv_path).sample(frac=1, axis=0, random_state=42)\n",
    "df.reset_index(inplace=True)\n",
    "df.pop('index')\n",
    "df.head()"
   ]
  },
  {
   "cell_type": "markdown",
   "metadata": {},
   "source": [
    "## Text pre-processing\n",
    "\n",
    "Tokenise the tweets and perform lemmatisation and stemming."
   ]
  },
  {
   "cell_type": "code",
   "execution_count": 31,
   "metadata": {
    "pycharm": {
     "is_executing": false,
     "name": "#%%\n"
    }
   },
   "outputs": [
    {
     "data": {
      "text/plain": "['brexit',\n 'movi',\n 'didnt',\n 'near',\n 'attent',\n 'peopl',\n 'dont',\n 'want',\n 'shitti',\n 'futur',\n 'chernobyl',\n 'failur',\n 'past',\n 'attent']"
     },
     "metadata": {},
     "output_type": "execute_result",
     "execution_count": 31
    }
   ],
   "source": [
    "from brexittweets.custom_funcs.process_text_functions import tokenize_tag,stem_lemmatize\n",
    "\n",
    "preprocessed_tokenized = []\n",
    "\n",
    "for tweet in df['tweet_text']:\n",
    "    # tokenise tweet text\n",
    "\ttokenized_tweet = tokenize_tag(tweet)\n",
    "    # add to list of tokenised tweets\n",
    "\tpreprocessed_tokenized.append(stem_lemmatize(tokenized_tweet))\n",
    "    \n",
    "#Check that tokenisation, stemming and lemmatization has worked.\n",
    "preprocessed_tokenized[0]"
   ]
  },
  {
   "cell_type": "markdown",
   "metadata": {},
   "source": [
    "## Building the dictionary\n",
    "\n",
    "Using the `gensim` package, create a dictionary of words from the tweets.\n",
    "\n",
    "Given that the Tweets are already filtered to include the 'Brexit' topic, it is \n",
    "likely that some topic-relevant words will appear in upward of 80% of tweets.\n",
    "Words that appear in more than 50% of tweets are filtered\n",
    "to remove the most common words (e.g. 'Brexit' - we know that's the subject!)"
   ]
  },
  {
   "cell_type": "code",
   "execution_count": 32,
   "metadata": {
    "pycharm": {
     "is_executing": false,
     "name": "#%%\n"
    }
   },
   "outputs": [
    {
     "name": "stdout",
     "text": [
      "2752\n"
     ],
     "output_type": "stream"
    }
   ],
   "source": [
    "import gensim\n",
    "\n",
    "dictionary = gensim.corpora.Dictionary(preprocessed_tokenized)\n",
    "# Filter most common words\n",
    "dictionary.filter_extremes(no_above=0.5)\n",
    "\n",
    "print(len(dictionary))"
   ]
  },
  {
   "cell_type": "markdown",
   "metadata": {},
   "source": [
    "This leaves us with 2752 words to use for the model.\n",
    "\n",
    "# Bag of Words Corpus\n",
    "\n",
    "Use doc2bow to count the number of occurrences of each token, for each tweet in the list of tokenized tweets.\n",
    "This generates `bow_corpus`, a list of tuples (x,y) where x is the index in the dictionary of the \n",
    "word and y is the count of the word.\n",
    "\n",
    "Extract one tweet from the corpus to demonstrate."
   ]
  },
  {
   "cell_type": "code",
   "execution_count": 33,
   "metadata": {
    "pycharm": {
     "is_executing": false,
     "name": "#%%\n"
    }
   },
   "outputs": [
    {
     "name": "stdout",
     "text": [
      " can you explain how have you seen whats going on in italy are you ready for close pub university school and office will be worse than brexit i think\n",
      "Word see occurs 1 times.\n",
      "Word think occurs 1 times.\n",
      "Word go occurs 1 times.\n",
      "Word bad occurs 1 times.\n",
      "Word close occurs 1 times.\n",
      "Word explain occurs 1 times.\n",
      "Word itali occurs 1 times.\n",
      "Word offic occurs 1 times.\n",
      "Word readi occurs 1 times.\n",
      "Word school occurs 1 times.\n",
      "Word univers occurs 1 times.\n",
      "Word what occurs 1 times.\n"
     ],
     "output_type": "stream"
    }
   ],
   "source": [
    "# Create BOW corpus from list of tokenised tweets\n",
    "bow_corpus = [dictionary.doc2bow(tweet) for tweet in preprocessed_tokenized]\n",
    "\n",
    "# Get tweet at location 100\n",
    "example_tweet = df.loc[100,'tweet_text']\n",
    "print(example_tweet)\n",
    "# Get BOW entry at index 100\n",
    "example_tweet_bow = bow_corpus[100]\n",
    "for example_word, example_word_count in example_tweet_bow:\n",
    "    # Show count for each word in Tweet\n",
    "    print(f'Word {dictionary[example_word]} occurs {example_word_count} times.')"
   ]
  },
  {
   "cell_type": "markdown",
   "metadata": {},
   "source": [
    "## LDA model (Bag of Words)\n",
    "\n",
    "Fit a gensim LdaMulticore model to the bag-of-words data."
   ]
  },
  {
   "cell_type": "code",
   "execution_count": 34,
   "metadata": {
    "pycharm": {
     "is_executing": false,
     "name": "#%%\n"
    }
   },
   "outputs": [
    {
     "name": "stderr",
     "text": [
      "<>:15: DeprecationWarning: invalid escape sequence \\.\n",
      "<>:15: DeprecationWarning: invalid escape sequence \\.\n",
      "<>:15: DeprecationWarning: invalid escape sequence \\.\n",
      "<ipython-input-34-dbd5e14024a8>:15: DeprecationWarning: invalid escape sequence \\.\n",
      "  list_freqs = re.findall('0\\.[0-9]+', topic)\n"
     ],
     "output_type": "stream"
    },
    {
     "name": "stdout",
     "text": [
      "Topic 0:\n",
      "Word: \"deal\"\tFrequency: 0.012\n",
      "Word: \"trade\"\tFrequency: 0.012\n",
      "Word: \"leav\"\tFrequency: 0.011\n",
      "Word: \"vote\"\tFrequency: 0.010\n",
      "Word: \"peopl\"\tFrequency: 0.009\n",
      "Word: \"mean\"\tFrequency: 0.008\n",
      "Word: \"ireland\"\tFrequency: 0.008\n",
      "Word: \"johnson\"\tFrequency: 0.007\n",
      "Word: \"like\"\tFrequency: 0.007\n",
      "Word: \"tori\"\tFrequency: 0.006\n",
      "Topic 1:\n",
      "Word: \"vote\"\tFrequency: 0.013\n",
      "Word: \"countri\"\tFrequency: 0.010\n",
      "Word: \"labour\"\tFrequency: 0.009\n",
      "Word: \"happen\"\tFrequency: 0.009\n",
      "Word: \"know\"\tFrequency: 0.007\n",
      "Word: \"postbrexit\"\tFrequency: 0.007\n",
      "Word: \"elect\"\tFrequency: 0.007\n",
      "Word: \"go\"\tFrequency: 0.007\n",
      "Word: \"support\"\tFrequency: 0.006\n",
      "Word: \"like\"\tFrequency: 0.006\n",
      "Topic 2:\n",
      "Word: \"vote\"\tFrequency: 0.014\n",
      "Word: \"think\"\tFrequency: 0.013\n",
      "Word: \"peopl\"\tFrequency: 0.013\n",
      "Word: \"like\"\tFrequency: 0.011\n",
      "Word: \"right\"\tFrequency: 0.009\n",
      "Word: \"passport\"\tFrequency: 0.008\n",
      "Word: \"say\"\tFrequency: 0.008\n",
      "Word: \"dont\"\tFrequency: 0.008\n",
      "Word: \"want\"\tFrequency: 0.008\n",
      "Word: \"come\"\tFrequency: 0.008\n"
     ],
     "output_type": "stream"
    }
   ],
   "source": [
    "lda_model_bow = gensim.models.LdaMulticore(bow_corpus,\n",
    "                                           num_topics=3,\n",
    "                                           id2word=dictionary,\n",
    "                                           passes=2,\n",
    "                                           workers=4,\n",
    "                                           random_state=42)\n",
    "\n",
    "import re\n",
    "\n",
    "# Extract the words and their frequencies from the three topics\n",
    "topics = {}\n",
    "\n",
    "for num, topic in lda_model_bow.print_topics(-1):\n",
    "    list_words = re.findall('\"[a-z]+\"', topic)\n",
    "    list_freqs = re.findall('0\\.[0-9]+', topic)\n",
    "    topics[num] = zip(list_words, list_freqs)\n",
    "    \n",
    "for num, topic in topics.items():\n",
    "    print(f'Topic {num}:')\n",
    "    for word, freq in topic:\n",
    "        print(f'Word: {word}\\tFrequency: {freq}')\n"
   ]
  },
  {
   "cell_type": "markdown",
   "metadata": {
    "pycharm": {
     "name": "#%% md\n"
    }
   },
   "source": [
    "## Evaluate the BOW model\n",
    "\n",
    "Based on the words in the topics, they appear to reflect:\n",
    "\n",
    "- **Topic 0** :- Boris Johnson and the Conservative ('tori') government negotiating a trade deal, and uncertainty\n",
    "around Northern Ireland's border and status within the UK (BBC News, 2020a).\n",
    "- **Topic 1** :- The general election of 2019 (based on the words 'vote', 'country', 'labour', 'elect' and 'support'\n",
    "(BBC News, 2019a)\n",
    "- **Topic 2** :- Reactions to the announcement that new passports would be rolled out from March 2020 (BBC News, 2020b)\n",
    "\n",
    "Examine the coherence of the model"
   ]
  },
  {
   "cell_type": "code",
   "execution_count": 35,
   "metadata": {
    "pycharm": {
     "is_executing": false,
     "name": "#%%\n"
    }
   },
   "outputs": [
    {
     "name": "stdout",
     "text": [
      "Coherence Score: 0.17761323735106893\n"
     ],
     "output_type": "stream"
    }
   ],
   "source": [
    "# Coherence\n",
    "from gensim.models import CoherenceModel\n",
    "coherence_bow = CoherenceModel(model=lda_model_bow, \n",
    "                               texts=preprocessed_tokenized, \n",
    "                               dictionary=dictionary, \n",
    "                               coherence='c_v')\n",
    "coherence_lda = coherence_bow.get_coherence()\n",
    "print(f'Coherence Score: {coherence_lda}')"
   ]
  },
  {
   "cell_type": "markdown",
   "metadata": {},
   "source": [
    "## Term Frequency Inverse Document Frequency Corpus\n",
    "\n",
    "Generate a Tf-idf model using the Bag-of-words model. \n",
    "Tf-idf down-weights more common words."
   ]
  },
  {
   "cell_type": "code",
   "execution_count": 36,
   "metadata": {
    "pycharm": {
     "is_executing": false,
     "name": "#%%\n"
    }
   },
   "outputs": [],
   "source": [
    "# Generate Tf-idf corpus\n",
    "tfidf = gensim.models.TfidfModel(bow_corpus)\n",
    "tfidf_corpus = tfidf[bow_corpus]"
   ]
  },
  {
   "cell_type": "code",
   "execution_count": 37,
   "metadata": {
    "pycharm": {
     "is_executing": false,
     "name": "#%%\n"
    }
   },
   "outputs": [
    {
     "name": "stderr",
     "text": [
      "<>:14: DeprecationWarning: invalid escape sequence \\.\n",
      "<>:14: DeprecationWarning: invalid escape sequence \\.\n",
      "<>:14: DeprecationWarning: invalid escape sequence \\.\n",
      "<ipython-input-37-c4f5a9dbcdf9>:14: DeprecationWarning: invalid escape sequence \\.\n",
      "  list_freqs = re.findall('0\\.[0-9]+', topic)\n"
     ],
     "output_type": "stream"
    },
    {
     "name": "stdout",
     "text": [
      "Topic 0:\n",
      "Word: \"mean\"\tFrequency: 0.011\n",
      "Word: \"deal\"\tFrequency: 0.007\n",
      "Word: \"vote\"\tFrequency: 0.006\n",
      "Word: \"ireland\"\tFrequency: 0.006\n",
      "Word: \"trade\"\tFrequency: 0.006\n",
      "Word: \"leav\"\tFrequency: 0.005\n",
      "Word: \"northern\"\tFrequency: 0.005\n",
      "Word: \"british\"\tFrequency: 0.005\n",
      "Word: \"risk\"\tFrequency: 0.005\n",
      "Word: \"peopl\"\tFrequency: 0.005\n",
      "Topic 1:\n",
      "Word: \"happen\"\tFrequency: 0.009\n",
      "Word: \"vote\"\tFrequency: 0.006\n",
      "Word: \"postbrexit\"\tFrequency: 0.005\n",
      "Word: \"countri\"\tFrequency: 0.005\n",
      "Word: \"know\"\tFrequency: 0.005\n",
      "Word: \"remind\"\tFrequency: 0.005\n",
      "Word: \"bori\"\tFrequency: 0.004\n",
      "Word: \"march\"\tFrequency: 0.004\n",
      "Word: \"like\"\tFrequency: 0.004\n",
      "Word: \"labour\"\tFrequency: 0.004\n",
      "Topic 2:\n",
      "Word: \"vote\"\tFrequency: 0.009\n",
      "Word: \"think\"\tFrequency: 0.007\n",
      "Word: \"say\"\tFrequency: 0.007\n",
      "Word: \"peopl\"\tFrequency: 0.006\n",
      "Word: \"passport\"\tFrequency: 0.006\n",
      "Word: \"like\"\tFrequency: 0.006\n",
      "Word: \"right\"\tFrequency: 0.005\n",
      "Word: \"come\"\tFrequency: 0.005\n",
      "Word: \"year\"\tFrequency: 0.005\n",
      "Word: \"want\"\tFrequency: 0.004\n"
     ],
     "output_type": "stream"
    }
   ],
   "source": [
    "# LDA Multicore model using Tf-idf corpus\n",
    "lda_model_tfidf = gensim.models.LdaMulticore(tfidf_corpus, \n",
    "                                             num_topics=3, \n",
    "                                             id2word=dictionary, \n",
    "                                             passes=2, \n",
    "                                             workers=4,\n",
    "                                             random_state=42)\n",
    "\n",
    "# Extract topic words and frequencies to print\n",
    "topics = {}\n",
    "\n",
    "for num, topic in lda_model_tfidf.print_topics(-1):\n",
    "    list_words = re.findall('\"[a-z]+\"', topic)\n",
    "    list_freqs = re.findall('0\\.[0-9]+', topic) \n",
    "    topics[num] = zip(list_words, list_freqs)\n",
    "    \n",
    "for num, topic in topics.items():\n",
    "    print(f'Topic {num}:')\n",
    "    for word, freq in topic:\n",
    "        print(f'Word: {word}\\tFrequency: {freq}')"
   ]
  },
  {
   "cell_type": "markdown",
   "metadata": {
    "pycharm": {
     "name": "#%% md\n"
    }
   },
   "source": [
    "## Evaluate the Tf-idf model\n",
    "\n",
    "Inspecting the word choices, the topics appear to be as follows:\n",
    "\n",
    "1. Uncertainty around Northern Ireland's border and status within the UK in light of the trade deal being negotiated \n",
    "(BBC News, 2020a). \n",
    "2. This echoes Boris Johnson's election promise to \"Get Brexit Done\" (BBC News, 2019b) - with words like \"vote\", \n",
    "\"happen\", and \"postbrexit\" being most prominent.\n",
    "3. This seems to be about the new passports being rolled out from March (BBC News, 2020b).\n",
    "\n",
    "Examine the coherence of the model"
   ]
  },
  {
   "cell_type": "code",
   "execution_count": 38,
   "metadata": {
    "pycharm": {
     "is_executing": false,
     "name": "#%%\n"
    }
   },
   "outputs": [
    {
     "name": "stdout",
     "text": [
      "Coherence Score: 0.24275298340676602\n"
     ],
     "output_type": "stream"
    }
   ],
   "source": [
    "# Coherence\n",
    "from gensim.models import CoherenceModel\n",
    "coherence_tfidf = CoherenceModel(model=lda_model_tfidf, \n",
    "                                 texts=preprocessed_tokenized, \n",
    "                                 dictionary=dictionary, \n",
    "                                 coherence='c_v')\n",
    "coherence_score_tfidf = coherence_tfidf.get_coherence()\n",
    "print(f'Coherence Score: {coherence_score_tfidf}')"
   ]
  },
  {
   "cell_type": "markdown",
   "metadata": {
    "pycharm": {
     "name": "#%% md\n"
    }
   },
   "source": [
    "## Hyperparameter tuning\n",
    "\n",
    "In order to maximise the coherence of the model, re-train the model using\n",
    "both BOW corpus and Tf-idf corpus, and using several different values of\n",
    "alpha affects the 'sparsity' of the topics (Prabhakaran, 2018), so picking the right value\n",
    "will maximise the coherence."
   ]
  },
  {
   "cell_type": "code",
   "execution_count": 39,
   "metadata": {
    "pycharm": {
     "is_executing": false,
     "name": "#%%\n"
    }
   },
   "outputs": [
    {
     "name": "stdout",
     "text": [
      "Complete: alpha 0.01, corpus bow\n",
      "Complete: alpha 0.11, corpus bow\n",
      "Complete: alpha 0.21000000000000002, corpus bow\n",
      "Complete: alpha 0.31000000000000005, corpus bow\n",
      "Complete: alpha 0.41000000000000003, corpus bow\n",
      "Complete: alpha 0.51, corpus bow\n",
      "Complete: alpha 0.6100000000000001, corpus bow\n",
      "Complete: alpha 0.7100000000000001, corpus bow\n",
      "Complete: alpha 0.81, corpus bow\n",
      "Complete: alpha 0.91, corpus bow\n",
      "Complete: alpha 0.01, corpus tfidf\n",
      "Complete: alpha 0.11, corpus tfidf\n",
      "Complete: alpha 0.21000000000000002, corpus tfidf\n",
      "Complete: alpha 0.31000000000000005, corpus tfidf\n",
      "Complete: alpha 0.41000000000000003, corpus tfidf\n",
      "Complete: alpha 0.51, corpus tfidf\n",
      "Complete: alpha 0.6100000000000001, corpus tfidf\n",
      "Complete: alpha 0.7100000000000001, corpus tfidf\n",
      "Complete: alpha 0.81, corpus tfidf\n",
      "Complete: alpha 0.91, corpus tfidf\n"
     ],
     "output_type": "stream"
    },
    {
     "data": {
      "text/plain": "    alpha corpus  coherence_score\n13   0.31  tfidf         0.250836\n12   0.21  tfidf         0.236854\n14   0.41  tfidf         0.230768\n10   0.01  tfidf         0.227643\n11   0.11  tfidf         0.224339\n15   0.51  tfidf         0.198047\n0    0.01    bow         0.185564\n4    0.41    bow         0.183438\n3    0.31    bow         0.183438\n2    0.21    bow         0.183011\n1    0.11    bow         0.181799\n5    0.51    bow         0.181548\n6    0.61    bow         0.176343\n16   0.61  tfidf         0.175850\n8    0.81    bow         0.166640\n9    0.91    bow         0.166640\n7    0.71    bow         0.162991\n17   0.71  tfidf         0.137017\n18   0.81  tfidf         0.132717\n19   0.91  tfidf         0.129222",
      "text/html": "<div>\n<style scoped>\n    .dataframe tbody tr th:only-of-type {\n        vertical-align: middle;\n    }\n\n    .dataframe tbody tr th {\n        vertical-align: top;\n    }\n\n    .dataframe thead th {\n        text-align: right;\n    }\n</style>\n<table border=\"1\" class=\"dataframe\">\n  <thead>\n    <tr style=\"text-align: right;\">\n      <th></th>\n      <th>alpha</th>\n      <th>corpus</th>\n      <th>coherence_score</th>\n    </tr>\n  </thead>\n  <tbody>\n    <tr>\n      <th>13</th>\n      <td>0.31</td>\n      <td>tfidf</td>\n      <td>0.250836</td>\n    </tr>\n    <tr>\n      <th>12</th>\n      <td>0.21</td>\n      <td>tfidf</td>\n      <td>0.236854</td>\n    </tr>\n    <tr>\n      <th>14</th>\n      <td>0.41</td>\n      <td>tfidf</td>\n      <td>0.230768</td>\n    </tr>\n    <tr>\n      <th>10</th>\n      <td>0.01</td>\n      <td>tfidf</td>\n      <td>0.227643</td>\n    </tr>\n    <tr>\n      <th>11</th>\n      <td>0.11</td>\n      <td>tfidf</td>\n      <td>0.224339</td>\n    </tr>\n    <tr>\n      <th>15</th>\n      <td>0.51</td>\n      <td>tfidf</td>\n      <td>0.198047</td>\n    </tr>\n    <tr>\n      <th>0</th>\n      <td>0.01</td>\n      <td>bow</td>\n      <td>0.185564</td>\n    </tr>\n    <tr>\n      <th>4</th>\n      <td>0.41</td>\n      <td>bow</td>\n      <td>0.183438</td>\n    </tr>\n    <tr>\n      <th>3</th>\n      <td>0.31</td>\n      <td>bow</td>\n      <td>0.183438</td>\n    </tr>\n    <tr>\n      <th>2</th>\n      <td>0.21</td>\n      <td>bow</td>\n      <td>0.183011</td>\n    </tr>\n    <tr>\n      <th>1</th>\n      <td>0.11</td>\n      <td>bow</td>\n      <td>0.181799</td>\n    </tr>\n    <tr>\n      <th>5</th>\n      <td>0.51</td>\n      <td>bow</td>\n      <td>0.181548</td>\n    </tr>\n    <tr>\n      <th>6</th>\n      <td>0.61</td>\n      <td>bow</td>\n      <td>0.176343</td>\n    </tr>\n    <tr>\n      <th>16</th>\n      <td>0.61</td>\n      <td>tfidf</td>\n      <td>0.175850</td>\n    </tr>\n    <tr>\n      <th>8</th>\n      <td>0.81</td>\n      <td>bow</td>\n      <td>0.166640</td>\n    </tr>\n    <tr>\n      <th>9</th>\n      <td>0.91</td>\n      <td>bow</td>\n      <td>0.166640</td>\n    </tr>\n    <tr>\n      <th>7</th>\n      <td>0.71</td>\n      <td>bow</td>\n      <td>0.162991</td>\n    </tr>\n    <tr>\n      <th>17</th>\n      <td>0.71</td>\n      <td>tfidf</td>\n      <td>0.137017</td>\n    </tr>\n    <tr>\n      <th>18</th>\n      <td>0.81</td>\n      <td>tfidf</td>\n      <td>0.132717</td>\n    </tr>\n    <tr>\n      <th>19</th>\n      <td>0.91</td>\n      <td>tfidf</td>\n      <td>0.129222</td>\n    </tr>\n  </tbody>\n</table>\n</div>"
     },
     "metadata": {},
     "output_type": "execute_result",
     "execution_count": 39
    }
   ],
   "source": [
    "import numpy as np\n",
    "from typing import List\n",
    "\n",
    "# Length of corpus\n",
    "tweet_count = len(tfidf_corpus)\n",
    "\n",
    "# Range of possible alpha values\n",
    "alphas = list(np.arange(0.01,1,0.1))\n",
    "\n",
    "def tuning(alpha_list: List) -> pd.DataFrame:\n",
    "    \"\"\"\n",
    "    Accepts a list of possible alpha values, iterates through the\n",
    "    list and retrains an LDA Multicore model on each alpha value, for\n",
    "    each of the BOW and Tfidf corpuses.\n",
    "    Returns DataFrame of results.\n",
    "    \"\"\"\n",
    "    # Parameters and results stored in dictionary\n",
    "    params = {'alpha': [], 'corpus' : [], 'coherence_score': []}\n",
    "    # Choice of corpus options\n",
    "    corpus_options = {'bow': bow_corpus,\n",
    "                      'tfidf': tfidf_corpus}\n",
    "    \n",
    "    # Iterate through corpus options\n",
    "    for corpus_name, corpus in corpus_options.items():\n",
    "        # Iterate through alpha values\n",
    "        for alpha in alpha_list:\n",
    "            # Retrain model\n",
    "            lda_tuning = gensim.models.LdaMulticore(corpus, \n",
    "                                               num_topics=3, \n",
    "                                               id2word=dictionary, \n",
    "                                               passes=2, \n",
    "                                               workers=4, \n",
    "                                               alpha=alpha,\n",
    "                                               random_state=42)\n",
    "            # Calculate coherence\n",
    "            cs = CoherenceModel(model=lda_tuning, \n",
    "                                texts=preprocessed_tokenized, \n",
    "                                dictionary=dictionary, \n",
    "                                coherence='c_v')\n",
    "            # Print progress\n",
    "            print(f\"Complete: alpha {alpha}, corpus {corpus_name}\")\n",
    "            # Add parameters and results to dictionary\n",
    "            params['coherence_score'].append(cs.get_coherence())\n",
    "            params['alpha'].append(alpha)\n",
    "            params['corpus'].append(corpus_name)\n",
    "    # Display results\n",
    "    params_df = pd.DataFrame(data = params)\n",
    "    return params_df\n",
    "\n",
    "# Get results\n",
    "params_compare = tuning(alphas)\n",
    "# Sort from best coherence score to worst and display\n",
    "params_compare.sort_values(by='coherence_score', ascending=False)"
   ]
  },
  {
   "cell_type": "markdown",
   "metadata": {
    "pycharm": {
     "is_executing": false,
     "name": "#%% md\n"
    }
   },
   "source": [
    "The highest coherence scores appear using the 'tf-idf' corpus, which \n",
    "will be used from now on. The relationship between the alpha value and\n",
    "the coherence score will be visualised."
   ]
  },
  {
   "cell_type": "code",
   "execution_count": 40,
   "metadata": {
    "pycharm": {
     "is_executing": false,
     "name": "#%% \n"
    }
   },
   "outputs": [
    {
     "data": {
      "text/plain": "<Figure size 432x288 with 1 Axes>",
      "image/png": "[encoded data removed]"
     },
     "metadata": {
      "needs_background": "light"
     },
     "output_type": "display_data"
    }
   ],
   "source": [
    "import matplotlib.pyplot as plt\n",
    "\n",
    "# Filter DataFrame to include only tf-idf model results\n",
    "params_tfidf = params_compare.copy()[params_compare.corpus=='tfidf']\n",
    "\n",
    "# Set y = coherence scores and x = alpha values\n",
    "y_alpha = params_tfidf['coherence_score']\n",
    "x = params_tfidf['alpha']\n",
    "\n",
    "# plot using matplotlib\n",
    "plt.plot(x,y_alpha)\n",
    "plt.xlabel('Alpha')\n",
    "plt.ylabel('Coherence score')\n",
    "plt.title('Coherence score of LDA model on Tf-idf corpus')\n",
    "plt.show()\n"
   ]
  },
  {
   "cell_type": "code",
   "execution_count": 41,
   "metadata": {
    "pycharm": {
     "is_executing": false,
     "name": "#%%\n"
    }
   },
   "outputs": [
    {
     "name": "stderr",
     "text": [
      "<>:18: DeprecationWarning: invalid escape sequence \\.\n",
      "<>:18: DeprecationWarning: invalid escape sequence \\.\n",
      "<>:18: DeprecationWarning: invalid escape sequence \\.\n",
      "<ipython-input-41-838aa4a4a0dd>:18: DeprecationWarning: invalid escape sequence \\.\n",
      "  list_freqs = re.findall('0\\.[0-9]+', topic)\n"
     ],
     "output_type": "stream"
    },
    {
     "name": "stdout",
     "text": [
      "Topic 0:\n",
      "Word: \"mean\"\tFrequency: 0.011\n",
      "Word: \"deal\"\tFrequency: 0.007\n",
      "Word: \"ireland\"\tFrequency: 0.006\n",
      "Word: \"vote\"\tFrequency: 0.006\n",
      "Word: \"trade\"\tFrequency: 0.006\n",
      "Word: \"leav\"\tFrequency: 0.005\n",
      "Word: \"northern\"\tFrequency: 0.005\n",
      "Word: \"british\"\tFrequency: 0.005\n",
      "Word: \"risk\"\tFrequency: 0.005\n",
      "Word: \"pledg\"\tFrequency: 0.005\n",
      "Topic 1:\n",
      "Word: \"happen\"\tFrequency: 0.009\n",
      "Word: \"vote\"\tFrequency: 0.007\n",
      "Word: \"postbrexit\"\tFrequency: 0.005\n",
      "Word: \"countri\"\tFrequency: 0.005\n",
      "Word: \"know\"\tFrequency: 0.005\n",
      "Word: \"remind\"\tFrequency: 0.005\n",
      "Word: \"bori\"\tFrequency: 0.004\n",
      "Word: \"march\"\tFrequency: 0.004\n",
      "Word: \"like\"\tFrequency: 0.004\n",
      "Word: \"occur\"\tFrequency: 0.004\n",
      "Topic 2:\n",
      "Word: \"vote\"\tFrequency: 0.009\n",
      "Word: \"think\"\tFrequency: 0.007\n",
      "Word: \"say\"\tFrequency: 0.007\n",
      "Word: \"peopl\"\tFrequency: 0.006\n",
      "Word: \"passport\"\tFrequency: 0.006\n",
      "Word: \"like\"\tFrequency: 0.006\n",
      "Word: \"right\"\tFrequency: 0.005\n",
      "Word: \"come\"\tFrequency: 0.005\n",
      "Word: \"year\"\tFrequency: 0.005\n",
      "Word: \"want\"\tFrequency: 0.004\n",
      "Coherence:  0.25083581507490676\n"
     ],
     "output_type": "stream"
    }
   ],
   "source": [
    "# select best coherence score and associated alpha value\n",
    "coherence_score_best = max(params_tfidf['coherence_score'])\n",
    "alpha_score_best = params_tfidf[params_tfidf.coherence_score==coherence_score_best]['alpha'].values[0]\n",
    "\n",
    "# retrain model\n",
    "lda_model_tuned = gensim.models.LdaMulticore(tfidf_corpus, \n",
    "                                             num_topics=3, \n",
    "                                             id2word=dictionary, \n",
    "                                             passes=2, \n",
    "                                             workers=4,\n",
    "                                             alpha=alpha_score_best,\n",
    "                                             random_state=42)\n",
    "\n",
    "topics = {}\n",
    "\n",
    "for num, topic in lda_model_tuned.print_topics(-1):\n",
    "    list_words = re.findall('\"[a-z]+\"', topic)\n",
    "    list_freqs = re.findall('0\\.[0-9]+', topic) \n",
    "    topics[num] = zip(list_words, list_freqs)\n",
    "    \n",
    "for num, topic in topics.items():\n",
    "    print(f'Topic {num}:')\n",
    "    for word, freq in topic:\n",
    "        print(f'Word: {word}\\tFrequency: {freq}')\n",
    "\n",
    "print('Coherence: ',\n",
    "      CoherenceModel(model=lda_model_tuned, \n",
    "                     texts=preprocessed_tokenized, \n",
    "                     dictionary=dictionary, \n",
    "                     coherence='c_v').get_coherence())"
   ]
  },
  {
   "cell_type": "code",
   "execution_count": 42,
   "metadata": {
    "pycharm": {
     "is_executing": false,
     "name": "#%%\n"
    }
   },
   "outputs": [
    {
     "data": {
      "text/plain": "PreparedData(topic_coordinates=              x         y  topics  cluster       Freq\ntopic                                                \n2      0.007600 -0.062496       1        1  37.205837\n0     -0.065962  0.025518       2        1  31.813505\n1      0.058362  0.036979       3        1  30.980659, topic_info=        Term        Freq       Total Category  logprob  loglift\n41      mean  120.000000  120.000000  Default  30.0000  30.0000\n295  ireland   58.000000   58.000000  Default  29.0000  29.0000\n84    happen  106.000000  106.000000  Default  28.0000  28.0000\n297    pledg   42.000000   42.000000  Default  27.0000  27.0000\n86    remind   40.000000   40.000000  Default  26.0000  26.0000\n..       ...         ...         ...      ...      ...      ...\n457  johnson   25.247374   73.618233   Topic3  -5.7741   0.1016\n8      peopl   30.256723  130.061844   Topic3  -5.5931  -0.2865\n2       dont   26.959032   95.325867   Topic3  -5.7085  -0.0912\n10      want   26.023277   91.914902   Topic3  -5.7438  -0.0901\n35      deal   24.672104  106.849167   Topic3  -5.7971  -0.2939\n\n[252 rows x 6 columns], token_table=      Topic      Freq    Term\nterm                         \n338       1  0.734020  actual\n338       2  0.108744  actual\n338       3  0.135930  actual\n52        1  0.134349  affect\n52        2  0.828488  affect\n...     ...       ...     ...\n648       2  0.657216   wrong\n648       3  0.202220   wrong\n183       1  0.548240    year\n183       2  0.238365    year\n183       3  0.214529    year\n\n[488 rows x 3 columns], R=30, lambda_step=0.01, plot_opts={'xlab': 'PC1', 'ylab': 'PC2'}, topic_order=[3, 1, 2])",
      "text/html": "\n<link rel=\"stylesheet\" type=\"text/css\" href=\"https://cdn.rawgit.com/bmabey/pyLDAvis/files/ldavis.v1.0.0.css\">\n\n\n<div id=\"ldavis_el2101623755498527446941370319\"></div>\n<script type=\"text/javascript\">\n\nvar ldavis_el2101623755498527446941370319_data = {\"mdsDat\": {\"x\": [0.007599867917493354, -0.06596191436824847, 0.058362046450755115], \"y\": [-0.062496376310516556, 0.025517625010153526, 0.03697875130036302], \"topics\": [1, 2, 3], \"cluster\": [1, 1, 1], \"Freq\": [37.20583724975586, 31.813505172729492, 30.98065948486328]}, \"tinfo\": {\"Term\": [\"mean\", \"ireland\", \"happen\", \"pledg\", \"remind\", \"reneg\", \"northern\", \"occur\", \"risk\", \"march\", \"affect\", \"porno\", \"musician\", \"porn\", \"pound\", \"postbrexit\", \"deal\", \"fuck\", \"passport\", \"european\", \"sign\", \"blame\", \"say\", \"view\", \"irish\", \"surpris\", \"workingintheeu\", \"forc\", \"cours\", \"wrong\", \"laugh\", \"celebr\", \"document\", \"memori\", \"sole\", \"victori\", \"hello\", \"bong\", \"wear\", \"renew\", \"robinson\", \"ukrain\", \"redefin\", \"confus\", \"aint\", \"flow\", \"sterl\", \"hundr\", \"backslid\", \"smell\", \"valid\", \"gove\", \"tommi\", \"bound\", \"note\", \"amid\", \"emot\", \"equal\", \"earlier\", \"crimin\", \"boom\", \"white\", \"chlorin\", \"blame\", \"fuck\", \"chicken\", \"price\", \"actual\", \"passport\", \"joke\", \"nonsens\", \"handl\", \"say\", \"littl\", \"come\", \"blue\", \"nice\", \"roll\", \"luke\", \"win\", \"right\", \"enjoy\", \"think\", \"give\", \"minist\", \"thing\", \"racist\", \"parti\", \"love\", \"year\", \"vote\", \"movement\", \"peopl\", \"isnt\", \"like\", \"want\", \"sure\", \"tori\", \"wont\", \"time\", \"britain\", \"dont\", \"good\", \"voter\", \"need\", \"british\", \"trade\", \"leav\", \"countri\", \"that\", \"pledg\", \"reneg\", \"gov\", \"ireland\", \"satir\", \"scheme\", \"ofelect\", \"sidestep\", \"visit\", \"electl\", \"fincl\", \"politl\", \"niwelshscotland\", \"mediadata\", \"notmand\", \"intaintedref\", \"thanx\", \"urgt\", \"legisln\", \"frenchdutch\", \"fara\", \"faulkland\", \"brexitclock\", \"brexitcon\", \"northern\", \"individu\", \"april\", \"armi\", \"risk\", \"spell\", \"betray\", \"affect\", \"mean\", \"citizenship\", \"cours\", \"pound\", \"irish\", \"servant\", \"surpris\", \"loveislandfin\", \"brexitr\", \"dead\", \"warn\", \"associ\", \"european\", \"sabotag\", \"membership\", \"bollock\", \"sum\", \"deal\", \"wrong\", \"continu\", \"trade\", \"tell\", \"leav\", \"british\", \"that\", \"talk\", \"lie\", \"johnson\", \"vote\", \"lose\", \"post\", \"didnt\", \"peopl\", \"point\", \"like\", \"tori\", \"dont\", \"go\", \"work\", \"think\", \"porno\", \"remind\", \"porn\", \"occur\", \"sideshow\", \"anthem\", \"waster\", \"workingintheeu\", \"parthenon\", \"toughen\", \"intens\", \"fortnight\", \"guy\", \"refuge\", \"stockpil\", \"editori\", \"analog\", \"horrend\", \"musician\", \"sport\", \"perfidi\", \"groom\", \"audienc\", \"tape\", \"quebec\", \"pile\", \"march\", \"petit\", \"monarchi\", \"kick\", \"reform\", \"pressur\", \"forc\", \"happen\", \"sign\", \"tour\", \"view\", \"postbrexit\", \"generat\", \"nodeal\", \"push\", \"keir\", \"boost\", \"travel\", \"believ\", \"countri\", \"bori\", \"know\", \"support\", \"elect\", \"parliament\", \"realiti\", \"labour\", \"remain\", \"live\", \"trump\", \"britain\", \"vote\", \"go\", \"look\", \"good\", \"like\", \"govern\", \"negoti\", \"work\", \"johnson\", \"peopl\", \"dont\", \"want\", \"deal\"], \"Freq\": [120.0, 58.0, 106.0, 42.0, 40.0, 42.0, 48.0, 36.0, 47.0, 43.0, 44.0, 26.0, 34.0, 26.0, 42.0, 66.0, 106.0, 53.0, 79.0, 44.0, 31.0, 46.0, 96.0, 32.0, 27.0, 32.0, 16.0, 20.0, 21.0, 39.0, 13.570751190185547, 14.51711654663086, 5.80184268951416, 5.3184123039245605, 4.230271339416504, 9.565403938293457, 4.1156392097473145, 6.890808582305908, 5.3403849601745605, 4.480792999267578, 5.175614833831787, 3.6525235176086426, 4.453274250030518, 6.970333576202393, 5.58158016204834, 3.269592523574829, 4.993722438812256, 4.209489822387695, 5.913671016693115, 4.757879257202148, 5.371160507202148, 3.825371265411377, 5.302872657775879, 3.648017406463623, 4.451132297515869, 6.604917526245117, 2.9408926963806152, 7.89285945892334, 3.418694496154785, 8.099467277526855, 8.423118591308594, 18.577983856201172, 18.2304744720459, 36.851226806640625, 42.122589111328125, 22.16819953918457, 9.849785804748535, 27.477109909057617, 56.07414627075195, 10.509720802307129, 11.53599739074707, 9.603105545043945, 64.19207000732422, 24.342283248901367, 50.29129409790039, 34.43044662475586, 13.179738998413086, 11.953457832336426, 10.622234344482422, 14.691377639770508, 51.819549560546875, 14.858455657958984, 68.99516296386719, 25.31167984008789, 23.42566680908203, 37.24404525756836, 24.62348175048828, 39.01142501831055, 31.085952758789062, 46.212005615234375, 90.39682006835938, 15.764033317565918, 59.991966247558594, 29.23664093017578, 55.16331100463867, 43.75425720214844, 26.662567138671875, 39.14448928833008, 24.273426055908203, 36.88847351074219, 38.503604888916016, 39.608421325683594, 35.62512969970703, 24.690927505493164, 32.28426742553711, 32.21626281738281, 28.38302993774414, 27.842466354370117, 27.653705596923828, 26.753480911254883, 39.13819122314453, 38.65699768066406, 6.3642964363098145, 52.24306106567383, 5.991019248962402, 11.390554428100586, 4.936587810516357, 5.286378860473633, 7.452010154724121, 4.93011474609375, 4.929596900939941, 4.929201126098633, 4.926494121551514, 4.923168182373047, 4.917867183685303, 4.917544841766357, 4.916520118713379, 4.914854049682617, 4.9148054122924805, 12.01395034790039, 4.910542964935303, 4.894455432891846, 5.167998313903809, 5.085821151733398, 42.27997589111328, 11.782744407653809, 4.539094924926758, 5.956533432006836, 40.6489372253418, 5.321634292602539, 10.351094245910645, 36.62749481201172, 93.51321411132812, 13.533082008361816, 17.16684913635254, 32.78030014038086, 21.795425415039062, 16.55417823791504, 24.145322799682617, 11.896445274353027, 15.21335506439209, 12.601433753967285, 14.861130714416504, 12.5451021194458, 30.80588722229004, 8.01779842376709, 12.826849937438965, 9.089302062988281, 10.382972717285156, 60.3514289855957, 26.186580657958984, 18.365339279174805, 51.38996505737305, 28.040508270263672, 45.085784912109375, 41.38780212402344, 34.91983413696289, 27.464479446411133, 27.010459899902344, 32.51344680786133, 54.12468338012695, 28.72886085510254, 27.513933181762695, 27.348054885864258, 39.813148498535156, 21.31300163269043, 34.79273986816406, 27.642343521118164, 28.758419036865234, 27.52195930480957, 25.344255447387695, 26.284343719482422, 25.024574279785156, 36.94026565551758, 24.56589698791504, 33.774837493896484, 8.26101016998291, 7.137216567993164, 6.154787063598633, 14.370244026184082, 9.969274520874023, 7.37526273727417, 5.942566394805908, 6.9007568359375, 10.597270011901855, 6.25947380065918, 5.819522857666016, 4.845778465270996, 4.278712749481201, 5.26409912109375, 29.059492111206055, 4.2596821784973145, 4.758311748504639, 3.9569811820983887, 3.895580768585205, 7.284103870391846, 3.400723457336426, 7.825013637542725, 35.97529602050781, 14.662215232849121, 3.2366974353790283, 9.856414794921875, 9.458651542663574, 11.23261833190918, 16.302711486816406, 75.35038757324219, 23.663169860839844, 16.33950424194336, 23.140945434570312, 43.4932975769043, 12.344626426696777, 10.778419494628906, 11.603896141052246, 10.788970947265625, 10.009672164916992, 17.324005126953125, 23.12367057800293, 40.9760627746582, 36.299556732177734, 37.7014274597168, 32.78919219970703, 30.747953414916992, 17.745765686035156, 16.180938720703125, 33.978851318359375, 26.89457893371582, 24.434659957885742, 24.450939178466797, 33.5443229675293, 52.67745590209961, 32.36943054199219, 26.0805606842041, 30.4017333984375, 34.845882415771484, 25.84613037109375, 21.84526252746582, 26.08713150024414, 25.247373580932617, 30.256723403930664, 26.95903205871582, 26.023277282714844, 24.672103881835938], \"Total\": [120.0, 58.0, 106.0, 42.0, 40.0, 42.0, 48.0, 36.0, 47.0, 43.0, 44.0, 26.0, 34.0, 26.0, 42.0, 66.0, 106.0, 53.0, 79.0, 44.0, 31.0, 46.0, 96.0, 32.0, 27.0, 32.0, 16.0, 20.0, 21.0, 39.0, 15.245884895324707, 16.670961380004883, 6.675119400024414, 6.157323360443115, 4.903572082519531, 11.123334884643555, 4.788647174835205, 8.038918495178223, 6.256153106689453, 5.26177978515625, 6.1068525314331055, 4.311324596405029, 5.271140098571777, 8.27291488647461, 6.667335033416748, 3.907681703567505, 5.988015174865723, 5.0617356300354, 7.1253743171691895, 5.738719940185547, 6.496015548706055, 4.6273627281188965, 6.4252729415893555, 4.424848556518555, 5.412487506866455, 8.038050651550293, 3.5800366401672363, 9.622201919555664, 4.169551372528076, 9.879179000854492, 10.335862159729004, 23.02914810180664, 22.77333641052246, 46.7652587890625, 53.95789337158203, 28.30414390563965, 12.202961921691895, 36.78376007080078, 79.77633666992188, 13.377037048339844, 14.793363571166992, 12.160026550292969, 96.59635162353516, 33.639549255371094, 75.25791931152344, 49.976463317871094, 17.28476905822754, 15.587345123291016, 13.70674991607666, 19.82781410217285, 83.07762145996094, 20.116483688354492, 119.30233764648438, 37.41822052001953, 34.33427810668945, 61.010459899902344, 37.80994415283203, 66.42524719238281, 50.36189270019531, 83.9049301147461, 197.19895935058594, 22.357009887695312, 130.0618438720703, 51.45137023925781, 124.80194091796875, 91.91490173339844, 47.52378845214844, 84.0279769897461, 41.914344787597656, 79.3639907836914, 89.51512145996094, 95.32586669921875, 87.75736999511719, 43.30629348754883, 78.67507934570312, 88.68836212158203, 101.3106918334961, 92.47506713867188, 88.80701446533203, 70.15367126464844, 42.02169418334961, 42.21137237548828, 7.067036151885986, 58.15179443359375, 6.727809906005859, 12.824033737182617, 5.593173503875732, 5.991168022155762, 8.451022148132324, 5.593507766723633, 5.59359884262085, 5.593668460845947, 5.593875885009766, 5.593992710113525, 5.594257831573486, 5.594320774078369, 5.594464302062988, 5.594422340393066, 5.594541549682617, 13.683934211730957, 5.594618320465088, 5.59570837020874, 5.92708683013916, 5.8529558181762695, 48.954864501953125, 13.670413970947266, 5.2748894691467285, 6.937331199645996, 47.402530670166016, 6.220070838928223, 12.168578147888184, 44.659664154052734, 120.19080352783203, 16.34587860107422, 21.18832778930664, 42.902015686035156, 27.935489654541016, 20.86687660217285, 32.58800506591797, 14.879722595214844, 19.597431182861328, 15.967122077941895, 19.439014434814453, 16.061281204223633, 44.64513397216797, 9.690196990966797, 16.856292724609375, 11.32851791381836, 13.235424995422363, 106.84916687011719, 39.56080627441406, 26.590723037719727, 101.3106918334961, 48.27127456665039, 92.47506713867188, 88.68836212158203, 70.15367126464844, 51.46636199951172, 51.55474853515625, 73.61823272705078, 197.19895935058594, 64.94155883789062, 60.49359893798828, 59.86848449707031, 130.0618438720703, 39.81416320800781, 124.80194091796875, 84.0279769897461, 95.32586669921875, 86.39395904541016, 74.93055725097656, 119.30233764648438, 26.93065071105957, 40.081748962402344, 26.737693786621094, 36.9058952331543, 9.122918128967285, 7.9418511390686035, 6.870651721954346, 16.219388961791992, 11.267930030822754, 8.39997386932373, 6.787195682525635, 7.915506362915039, 12.2250394821167, 7.232409477233887, 6.815340042114258, 5.683396339416504, 5.049938201904297, 6.213667869567871, 34.30732345581055, 5.034886360168457, 5.697178363800049, 4.738574028015137, 4.667297840118408, 8.76311206817627, 4.10080623626709, 9.446883201599121, 43.49198913574219, 17.74388313293457, 3.9202992916107178, 11.980663299560547, 11.666034698486328, 13.940500259399414, 20.53394317626953, 106.8475341796875, 31.531269073486328, 21.305511474609375, 32.070640563964844, 66.27049255371094, 16.15162467956543, 14.00766658782959, 15.381010055541992, 14.386780738830566, 13.189919471740723, 27.383663177490234, 40.513572692871094, 88.80701446533203, 75.6221923828125, 80.5037841796875, 67.5728759765625, 62.10283660888672, 28.704456329345703, 25.274288177490234, 75.79535675048828, 57.142024993896484, 49.296539306640625, 51.18067169189453, 89.51512145996094, 197.19895935058594, 86.39395904541016, 62.80378723144531, 87.75736999511719, 124.80194091796875, 66.4755859375, 45.69984436035156, 74.93055725097656, 73.61823272705078, 130.0618438720703, 95.32586669921875, 91.91490173339844, 106.84916687011719], \"Category\": [\"Default\", \"Default\", \"Default\", \"Default\", \"Default\", \"Default\", \"Default\", \"Default\", \"Default\", \"Default\", \"Default\", \"Default\", \"Default\", \"Default\", \"Default\", \"Default\", \"Default\", \"Default\", \"Default\", \"Default\", \"Default\", \"Default\", \"Default\", \"Default\", \"Default\", \"Default\", \"Default\", \"Default\", \"Default\", \"Default\", \"Topic1\", \"Topic1\", \"Topic1\", \"Topic1\", \"Topic1\", \"Topic1\", \"Topic1\", \"Topic1\", \"Topic1\", \"Topic1\", \"Topic1\", \"Topic1\", \"Topic1\", \"Topic1\", \"Topic1\", \"Topic1\", \"Topic1\", \"Topic1\", \"Topic1\", \"Topic1\", \"Topic1\", \"Topic1\", \"Topic1\", \"Topic1\", \"Topic1\", \"Topic1\", \"Topic1\", \"Topic1\", \"Topic1\", \"Topic1\", \"Topic1\", \"Topic1\", \"Topic1\", \"Topic1\", \"Topic1\", \"Topic1\", \"Topic1\", \"Topic1\", \"Topic1\", \"Topic1\", \"Topic1\", \"Topic1\", \"Topic1\", \"Topic1\", \"Topic1\", \"Topic1\", \"Topic1\", \"Topic1\", \"Topic1\", \"Topic1\", \"Topic1\", \"Topic1\", \"Topic1\", \"Topic1\", \"Topic1\", \"Topic1\", \"Topic1\", \"Topic1\", \"Topic1\", \"Topic1\", \"Topic1\", \"Topic1\", \"Topic1\", \"Topic1\", \"Topic1\", \"Topic1\", \"Topic1\", \"Topic1\", \"Topic1\", \"Topic1\", \"Topic1\", \"Topic1\", \"Topic1\", \"Topic1\", \"Topic1\", \"Topic1\", \"Topic1\", \"Topic1\", \"Topic1\", \"Topic1\", \"Topic2\", \"Topic2\", \"Topic2\", \"Topic2\", \"Topic2\", \"Topic2\", \"Topic2\", \"Topic2\", \"Topic2\", \"Topic2\", \"Topic2\", \"Topic2\", \"Topic2\", \"Topic2\", \"Topic2\", \"Topic2\", \"Topic2\", \"Topic2\", \"Topic2\", \"Topic2\", \"Topic2\", \"Topic2\", \"Topic2\", \"Topic2\", \"Topic2\", \"Topic2\", \"Topic2\", \"Topic2\", \"Topic2\", \"Topic2\", \"Topic2\", \"Topic2\", \"Topic2\", \"Topic2\", \"Topic2\", \"Topic2\", \"Topic2\", \"Topic2\", \"Topic2\", \"Topic2\", \"Topic2\", \"Topic2\", \"Topic2\", \"Topic2\", \"Topic2\", \"Topic2\", \"Topic2\", \"Topic2\", \"Topic2\", \"Topic2\", \"Topic2\", \"Topic2\", \"Topic2\", \"Topic2\", \"Topic2\", \"Topic2\", \"Topic2\", \"Topic2\", \"Topic2\", \"Topic2\", \"Topic2\", \"Topic2\", \"Topic2\", \"Topic2\", \"Topic2\", \"Topic2\", \"Topic2\", \"Topic2\", \"Topic2\", \"Topic2\", \"Topic2\", \"Topic2\", \"Topic3\", \"Topic3\", \"Topic3\", \"Topic3\", \"Topic3\", \"Topic3\", \"Topic3\", \"Topic3\", \"Topic3\", \"Topic3\", \"Topic3\", \"Topic3\", \"Topic3\", \"Topic3\", \"Topic3\", \"Topic3\", \"Topic3\", \"Topic3\", \"Topic3\", \"Topic3\", \"Topic3\", \"Topic3\", \"Topic3\", \"Topic3\", \"Topic3\", \"Topic3\", \"Topic3\", \"Topic3\", \"Topic3\", \"Topic3\", \"Topic3\", \"Topic3\", \"Topic3\", \"Topic3\", \"Topic3\", \"Topic3\", \"Topic3\", \"Topic3\", \"Topic3\", \"Topic3\", \"Topic3\", \"Topic3\", \"Topic3\", \"Topic3\", \"Topic3\", \"Topic3\", \"Topic3\", \"Topic3\", \"Topic3\", \"Topic3\", \"Topic3\", \"Topic3\", \"Topic3\", \"Topic3\", \"Topic3\", \"Topic3\", \"Topic3\", \"Topic3\", \"Topic3\", \"Topic3\", \"Topic3\", \"Topic3\", \"Topic3\", \"Topic3\", \"Topic3\", \"Topic3\", \"Topic3\", \"Topic3\", \"Topic3\", \"Topic3\"], \"logprob\": [30.0, 29.0, 28.0, 27.0, 26.0, 25.0, 24.0, 23.0, 22.0, 21.0, 20.0, 19.0, 18.0, 17.0, 16.0, 15.0, 14.0, 13.0, 12.0, 11.0, 10.0, 9.0, 8.0, 7.0, 6.0, 5.0, 4.0, 3.0, 2.0, 1.0, -6.578000068664551, -6.5106000900268555, -7.427700042724609, -7.514699935913086, -7.743599891662598, -6.927800178527832, -7.771100044250488, -7.25570011138916, -7.5106000900268555, -7.686100006103516, -7.541999816894531, -7.890500068664551, -7.692299842834473, -7.244200229644775, -7.466400146484375, -8.001199722290039, -7.577700138092041, -7.748600006103516, -7.408599853515625, -7.626100063323975, -7.504899978637695, -7.844299793243408, -7.5177001953125, -7.89169979095459, -7.692699909210205, -7.298099994659424, -8.107199668884277, -7.119900226593018, -7.956600189208984, -7.094099998474121, -7.054900169372559, -6.263899803161621, -6.282800197601318, -5.578999996185303, -5.445300102233887, -6.087200164794922, -6.898499965667725, -5.872600078582764, -5.159200191497803, -6.833600044250488, -6.7403998374938965, -6.923799991607666, -5.02400016784668, -5.99370002746582, -5.268099784851074, -5.646999835968018, -6.6072001457214355, -6.704899787902832, -6.822999954223633, -6.498600006103516, -5.238100051879883, -6.487299919128418, -4.951900005340576, -5.954599857330322, -6.032100200653076, -5.568399906158447, -5.9822001457214355, -5.52209997177124, -5.749199867248535, -5.352700233459473, -4.681700229644775, -6.428199768066406, -5.091700077056885, -5.810500144958496, -5.175600051879883, -5.407299995422363, -5.902599811553955, -5.518599987030029, -5.996500015258789, -5.578000068664551, -5.535200119018555, -5.506899833679199, -5.6128997802734375, -5.979499816894531, -5.711299896240234, -5.713399887084961, -5.840099811553955, -5.859300136566162, -5.866099834442139, -5.899199962615967, -5.362199783325195, -5.374599933624268, -7.178599834442139, -5.073400020599365, -7.239099979400635, -6.596499919891357, -7.432700157165527, -7.364200115203857, -7.0208001136779785, -7.434000015258789, -7.434100151062012, -7.434199810028076, -7.434700012207031, -7.435400009155273, -7.436500072479248, -7.436500072479248, -7.436699867248535, -7.437099933624268, -7.437099933624268, -6.543300151824951, -7.437900066375732, -7.441199779510498, -7.3867998123168945, -7.402900218963623, -5.284999847412109, -6.562699794769287, -7.516600131988525, -7.244800090789795, -5.324399948120117, -7.357600212097168, -6.692200183868408, -5.428500175476074, -4.491199970245361, -6.424200057983398, -6.186399936676025, -5.5395002365112305, -5.9475998878479, -6.222700119018555, -5.845200061798096, -6.553100109100342, -6.307199954986572, -6.495500087738037, -6.330599784851074, -6.5, -5.601600170135498, -6.947700023651123, -6.477799892425537, -6.822199821472168, -6.689199924468994, -4.929100036621094, -5.764100074768066, -6.118899822235107, -5.089900016784668, -5.695700168609619, -5.220799922943115, -5.306300163269043, -5.47629976272583, -5.716400146484375, -5.733099937438965, -5.547699928283691, -5.038000106811523, -5.67140007019043, -5.714600086212158, -5.720699787139893, -5.345099925994873, -5.96999979019165, -5.479899883270264, -5.710000038146973, -5.670400142669678, -5.714300155639648, -5.796800136566162, -5.76039981842041, -5.782899856567383, -5.393499851226807, -5.801400184631348, -5.483099937438965, -6.891300201416016, -7.037499904632568, -7.1855998039245605, -6.337600231170654, -6.7032999992370605, -7.004700183868408, -7.220699787139893, -7.071199893951416, -6.642199993133545, -7.168700218200684, -7.241600036621094, -7.424699783325195, -7.549200057983398, -7.341899871826172, -5.633500099182129, -7.553599834442139, -7.44290018081665, -7.627299785614014, -7.64300012588501, -7.017099857330322, -7.778800010681152, -6.945499897003174, -5.420000076293945, -6.317500114440918, -7.8282999992370605, -6.714700222015381, -6.755899906158447, -6.584000110626221, -6.21150016784668, -4.680699825286865, -5.838900089263916, -6.209199905395508, -5.861199855804443, -5.230199813842773, -6.48960018157959, -6.62529993057251, -6.551499843597412, -6.624300003051758, -6.6992998123168945, -6.150700092315674, -5.8618998527526855, -5.28980016708374, -5.410999774932861, -5.3730998039245605, -5.512700080871582, -5.577000141143799, -6.126699924468994, -6.218999862670898, -5.477099895477295, -5.710899829864502, -5.80679988861084, -5.806099891662598, -5.4899001121521, -5.038599967956543, -5.525599956512451, -5.741600036621094, -5.5883002281188965, -5.451900005340576, -5.7505998611450195, -5.918799877166748, -5.741399765014648, -5.774099826812744, -5.593100070953369, -5.708499908447266, -5.743800163269043, -5.797100067138672], \"loglift\": [30.0, 29.0, 28.0, 27.0, 26.0, 25.0, 24.0, 23.0, 22.0, 21.0, 20.0, 19.0, 18.0, 17.0, 16.0, 15.0, 14.0, 13.0, 12.0, 11.0, 10.0, 9.0, 8.0, 7.0, 6.0, 5.0, 4.0, 3.0, 2.0, 1.0, 0.8723000288009644, 0.8503999710083008, 0.8485000133514404, 0.842199981212616, 0.8410000205039978, 0.8378000259399414, 0.8373000025749207, 0.8345999717712402, 0.8303999900817871, 0.828000009059906, 0.8233000040054321, 0.8228999972343445, 0.8201000094413757, 0.8173999786376953, 0.8109999895095825, 0.8104000091552734, 0.8070999979972839, 0.8043000102043152, 0.802299976348877, 0.8012999892234802, 0.7986000180244446, 0.7983999848365784, 0.7967000007629395, 0.7957000136375427, 0.7932000160217285, 0.7922999858856201, 0.7919999957084656, 0.7906000018119812, 0.7901999950408936, 0.7900999784469604, 0.7840999960899353, 0.7738999724388123, 0.7662000060081482, 0.7505000233650208, 0.741100013256073, 0.7444000244140625, 0.7745000123977661, 0.6970000267028809, 0.6362000107765198, 0.7475000023841858, 0.7400000095367432, 0.7526000142097473, 0.5799999833106995, 0.6651999950408936, 0.5856000185012817, 0.616100013256073, 0.7175999879837036, 0.7232999801635742, 0.7337999939918518, 0.6888999938964844, 0.516700029373169, 0.685699999332428, 0.44110000133514404, 0.5978000164031982, 0.6064000129699707, 0.4952000081539154, 0.5598000288009644, 0.45649999380111694, 0.5062000155448914, 0.392300009727478, 0.2087000012397766, 0.6392999887466431, 0.21490000188350677, 0.4235000014305115, 0.17229999601840973, 0.24639999866485596, 0.4106999933719635, 0.2248000055551529, 0.4424999952316284, 0.22259999811649323, 0.14499999582767487, 0.1103999987244606, 0.08720000088214874, 0.426800012588501, 0.09799999743700027, -0.024000000208616257, -0.28369998931884766, -0.21170000731945038, -0.17800000309944153, 0.024700000882148743, 1.0742000341415405, 1.0572999715805054, 1.0405000448226929, 1.038100004196167, 1.0292999744415283, 1.0267000198364258, 1.020400047302246, 1.0200999975204468, 1.0195000171661377, 1.0190000534057617, 1.0189000368118286, 1.0188000202178955, 1.0182000398635864, 1.0175000429153442, 1.0163999795913696, 1.0162999629974365, 1.0161000490188599, 1.0157999992370605, 1.0156999826431274, 1.0151000022888184, 1.0148999691009521, 1.0113999843597412, 1.0082000494003296, 1.0047999620437622, 0.9987000226974487, 0.9966999888420105, 0.9950000047683716, 0.992900013923645, 0.991599977016449, 0.989300012588501, 0.9835000038146973, 0.9470000267028809, 0.8942999839782715, 0.9563999772071838, 0.9348000288009644, 0.8762000203132629, 0.8970999717712402, 0.9138000011444092, 0.8453999757766724, 0.921500027179718, 0.8920999765396118, 0.9085999727249146, 0.8766999840736389, 0.8981999754905701, 0.7742000222206116, 0.9557999968528748, 0.8720999956130981, 0.9251000285148621, 0.9024999737739563, 0.5740000009536743, 0.732699990272522, 0.7752000093460083, 0.46650001406669617, 0.6021000146865845, 0.4268999993801117, 0.3831000030040741, 0.44760000705718994, 0.5171999931335449, 0.49889999628067017, 0.328000009059906, -0.147599995136261, 0.3296999931335449, 0.35740000009536743, 0.3617999851703644, -0.03849999979138374, 0.5203999876976013, -0.13199999928474426, 0.03350000083446503, -0.05310000106692314, 0.0013000000035390258, 0.06129999831318855, -0.36739999055862427, 1.0983999967575073, 1.0901999473571777, 1.0871000289916992, 1.0831999778747559, 1.07260000705719, 1.065000057220459, 1.0618000030517578, 1.0507999658584595, 1.049399971961975, 1.041700005531311, 1.0389000177383423, 1.034600019454956, 1.0289000272750854, 1.0273000001907349, 1.013800024986267, 1.0124000310897827, 1.006100058555603, 1.00600004196167, 1.0058000087738037, 1.0046000480651855, 0.9916999936103821, 0.991599977016449, 0.991100013256073, 0.9869999885559082, 0.9846000075340271, 0.9833999872207642, 0.9821000099182129, 0.9810000061988831, 0.9801999926567078, 0.9765999913215637, 0.9621000289916992, 0.9557999968528748, 0.941100001335144, 0.8226000070571899, 0.8847000002861023, 0.9064000248908997, 0.8454999923706055, 0.7506999969482422, 0.902999997138977, 0.9096999764442444, 0.8899999856948853, 0.8840000033378601, 0.8959000110626221, 0.7139999866485596, 0.6110000014305115, 0.3982999920845032, 0.43790000677108765, 0.4131999909877777, 0.4487000107765198, 0.46880000829696655, 0.6909000277519226, 0.7258999943733215, 0.3695000112056732, 0.41819998621940613, 0.4699999988079071, 0.43309998512268066, 0.19030000269412994, -0.14820000529289246, 0.19009999930858612, 0.2930000126361847, 0.11169999837875366, -0.10400000214576721, 0.22709999978542328, 0.43369999527931213, 0.11670000106096268, 0.10159999877214432, -0.2865000069141388, -0.09120000153779984, -0.09009999781847, -0.2939000129699707]}, \"token.table\": {\"Topic\": [1, 2, 3, 1, 2, 3, 1, 2, 1, 2, 3, 3, 3, 2, 1, 2, 1, 2, 3, 3, 1, 2, 3, 1, 2, 3, 1, 2, 1, 2, 3, 1, 2, 3, 1, 2, 3, 1, 2, 3, 1, 2, 1, 2, 3, 1, 2, 3, 1, 2, 2, 1, 2, 3, 1, 2, 3, 1, 2, 3, 1, 2, 3, 1, 2, 3, 1, 2, 3, 1, 2, 3, 1, 2, 3, 1, 2, 3, 1, 2, 3, 1, 2, 3, 1, 2, 3, 1, 2, 3, 1, 2, 3, 1, 2, 3, 1, 2, 3, 1, 1, 2, 3, 1, 3, 1, 2, 3, 2, 1, 1, 2, 3, 1, 2, 3, 1, 2, 3, 2, 2, 2, 1, 1, 2, 3, 1, 3, 1, 2, 1, 2, 3, 1, 2, 3, 1, 2, 3, 1, 2, 3, 1, 2, 3, 2, 1, 1, 2, 3, 3, 1, 2, 3, 1, 2, 3, 1, 2, 3, 1, 1, 3, 1, 1, 2, 3, 2, 3, 1, 2, 3, 1, 2, 3, 1, 2, 3, 1, 2, 3, 1, 2, 3, 1, 2, 3, 1, 2, 3, 1, 2, 3, 1, 2, 3, 1, 2, 1, 2, 3, 2, 1, 2, 3, 1, 2, 3, 1, 2, 3, 1, 2, 3, 1, 2, 3, 1, 2, 3, 1, 2, 3, 1, 2, 3, 1, 2, 3, 1, 2, 3, 1, 2, 3, 2, 1, 2, 1, 1, 2, 3, 3, 1, 2, 3, 1, 2, 3, 1, 2, 3, 1, 2, 3, 1, 2, 3, 2, 1, 2, 3, 1, 2, 3, 1, 2, 3, 1, 3, 2, 1, 2, 3, 2, 1, 2, 3, 2, 3, 1, 2, 3, 1, 2, 3, 1, 2, 3, 2, 3, 1, 2, 3, 2, 3, 1, 2, 3, 1, 2, 3, 2, 1, 2, 3, 1, 2, 3, 1, 2, 3, 1, 2, 3, 1, 2, 3, 1, 2, 3, 1, 2, 3, 1, 2, 3, 3, 1, 2, 3, 1, 2, 3, 1, 1, 2, 3, 1, 3, 1, 2, 3, 1, 2, 3, 1, 2, 3, 1, 1, 2, 3, 1, 2, 3, 1, 3, 1, 2, 3, 1, 2, 2, 1, 2, 3, 1, 2, 3, 1, 2, 3, 3, 2, 1, 2, 3, 1, 2, 1, 1, 2, 3, 1, 3, 1, 3, 1, 2, 3, 1, 2, 3, 1, 2, 3, 1, 2, 3, 1, 2, 3, 1, 2, 3, 1, 2, 3, 2, 1, 2, 3, 1, 2, 3, 1, 2, 3, 1, 2, 3, 1, 3, 1, 2, 3, 2, 3, 1, 2, 3, 1, 2, 3, 1, 2, 3, 1, 2, 3, 1, 2, 1, 3, 1, 2, 3, 1, 2, 3, 1, 2, 1, 2, 3, 1, 2, 3, 1, 2, 3, 1, 2, 3, 3, 1, 1, 2, 3, 1, 2, 3, 1, 2, 3, 1, 2, 3, 1, 2, 3, 1, 2, 3, 1, 2, 3], \"Freq\": [0.7340195775032043, 0.10874363780021667, 0.13592955470085144, 0.13434942066669464, 0.8284881114959717, 0.04478314146399498, 0.8999097943305969, 0.14998497068881989, 0.8708578944206238, 0.12440827488899231, 0.12440827488899231, 0.7920889258384705, 0.8814066052436829, 0.9478871822357178, 0.14414764940738678, 0.8648859262466431, 0.12452306598424911, 0.8093999624252319, 0.06226153299212456, 0.8570269346237183, 0.8420610427856445, 0.14034350216388702, 0.14034350216388702, 0.14809851348400116, 0.2715139389038086, 0.5677109956741333, 0.08217886835336685, 0.8217887282371521, 0.7911856174468994, 0.10691697150468826, 0.08553358167409897, 0.6803202629089355, 0.22010360658168793, 0.10004709661006927, 0.08827280253171921, 0.7944552302360535, 0.08827280253171921, 0.870763897895813, 0.12439484149217606, 0.12439484149217606, 0.7740041017532349, 0.09675051271915436, 0.1516309529542923, 0.07581547647714615, 0.7581547498703003, 0.18513083457946777, 0.33059078454971313, 0.4760507345199585, 0.9039857387542725, 0.8435847163200378, 0.8542692065238953, 0.10205419361591339, 0.7654064297676086, 0.1530812829732895, 0.4356805682182312, 0.18991205096244812, 0.37982410192489624, 0.3608139753341675, 0.4622929096221924, 0.1691315472126007, 0.8997681736946106, 0.11996908485889435, 0.059984542429447174, 0.7772713303565979, 0.17665258049964905, 0.03533051535487175, 0.7903980016708374, 0.1317330002784729, 0.043911002576351166, 0.12235499918460846, 0.8564850091934204, 0.06117749959230423, 0.6643819212913513, 0.17273929715156555, 0.1594516634941101, 0.8461346626281738, 0.12087637931108475, 0.12087637931108475, 0.0752141997218132, 0.6769278049468994, 0.2256426066160202, 0.3152904212474823, 0.22520743310451508, 0.4616752564907074, 0.14158739149570465, 0.8023285269737244, 0.04719579592347145, 0.8097838759422302, 0.10122298449277878, 0.10122298449277878, 0.12525738775730133, 0.8141730427742004, 0.06262869387865067, 0.205897718667984, 0.5615392327308655, 0.23397468030452728, 0.28395575284957886, 0.4509885311126709, 0.26725247502326965, 0.8988603353500366, 0.4196132719516754, 0.30421963334083557, 0.2832389771938324, 0.7195018529891968, 0.8797556161880493, 0.24153485894203186, 0.2737395167350769, 0.49917203187942505, 0.8938934803009033, 0.8379802703857422, 0.7456571459770203, 0.0994209572672844, 0.1491314321756363, 0.8314105272293091, 0.10392631590366364, 0.10392631590366364, 0.11199428886175156, 0.694364607334137, 0.20158971846103668, 0.893716037273407, 0.8935419321060181, 0.8938788771629333, 0.7677186131477356, 0.14609955251216888, 0.04869985207915306, 0.779197633266449, 0.1263343095779419, 0.8843401670455933, 0.07307840138673782, 0.8769407868385315, 0.7783847451210022, 0.1111978143453598, 0.1111978143453598, 0.12382655590772629, 0.12382655590772629, 0.7429593205451965, 0.668123722076416, 0.18707463145256042, 0.13362474739551544, 0.3125218451023102, 0.3240967392921448, 0.3703962564468384, 0.41022196412086487, 0.2506912052631378, 0.3418516218662262, 0.8490121960639954, 0.8644232749938965, 0.3911210298538208, 0.2256467491388321, 0.3911210298538208, 0.8441358208656311, 0.08179932832717896, 0.08179932832717896, 0.8997926115989685, 0.8223666548728943, 0.08223666250705719, 0.08223666250705719, 0.15910521149635315, 0.13102781772613525, 0.7019347548484802, 0.8353089690208435, 0.16093553602695465, 0.8046777248382568, 0.7902427911758423, 0.07315067201852798, 0.8778080940246582, 0.07315067201852798, 0.893763542175293, 0.8840175271034241, 0.05158912017941475, 0.89421147108078, 0.05158912017941475, 0.0715935155749321, 0.7875286936759949, 0.1431870311498642, 0.5636390447616577, 0.23322993516921997, 0.21379411220550537, 0.2173374593257904, 0.44825851917266846, 0.33958977460861206, 0.8223046660423279, 0.14950993657112122, 0.07475496828556061, 0.1390165090560913, 0.1390165090560913, 0.7645907998085022, 0.08346783369779587, 0.08346783369779587, 0.8346783518791199, 0.26085731387138367, 0.273279070854187, 0.4720275104045868, 0.2506749927997589, 0.3034486770629883, 0.44857630133628845, 0.9182806015014648, 0.0655914694070816, 0.3027843236923218, 0.48661765456199646, 0.21627451479434967, 0.8937282562255859, 0.1551748365163803, 0.523715078830719, 0.3297465443611145, 0.4406982660293579, 0.28044435381889343, 0.28044435381889343, 0.7134459614753723, 0.17836149036884308, 0.08918074518442154, 0.2637102007865906, 0.24342478811740875, 0.4868495762348175, 0.3184521198272705, 0.27068430185317993, 0.41398778557777405, 0.24637536704540253, 0.44655534625053406, 0.3233676552772522, 0.6155447959899902, 0.2184191197156906, 0.1588502675294876, 0.06720555573701859, 0.8064666390419006, 0.13441111147403717, 0.8025243282318115, 0.07295675575733185, 0.1459135115146637, 0.11496370285749435, 0.0689782202243805, 0.8277386426925659, 0.13312166929244995, 0.7820897698402405, 0.09152114391326904, 0.8938159942626953, 0.2373000979423523, 0.7712253332138062, 0.812041163444519, 0.6698845028877258, 0.20387788116931915, 0.11650165170431137, 0.7652477025985718, 0.7156592011451721, 0.13418610394001007, 0.17891480028629303, 0.11659318208694458, 0.029148295521736145, 0.845300555229187, 0.4067361652851105, 0.30505213141441345, 0.2923416197299957, 0.3719925284385681, 0.15317338705062866, 0.48140206933021545, 0.7521072626113892, 0.11570880562067032, 0.11570880562067032, 0.89383465051651, 0.07138947397470474, 0.14277894794940948, 0.7852842807769775, 0.8111745715141296, 0.1351957619190216, 0.0675978809595108, 0.06128093600273132, 0.8579331040382385, 0.0817079171538353, 0.7390317320823669, 0.18475793302059174, 0.89377361536026, 0.05419188365340233, 0.027095941826701164, 0.9212620258331299, 0.8939468860626221, 0.24386456608772278, 0.13935118913650513, 0.6270803213119507, 0.08874744176864624, 0.8874744772911072, 0.5871261358261108, 0.1957087218761444, 0.2258177548646927, 0.7019625306129456, 0.20056071877479553, 0.0877453163266182, 0.4613189995288849, 0.3075459897518158, 0.23065949976444244, 0.1755254864692688, 0.877627432346344, 0.056357450783252716, 0.11271490156650543, 0.8453617691993713, 0.10585501790046692, 0.8468401432037354, 0.023797232657670975, 0.9280920624732971, 0.04759446531534195, 0.2009335160255432, 0.5274505019187927, 0.2511669099330902, 0.8938677906990051, 0.03740038350224495, 0.03740038350224495, 0.9350095987319946, 0.03713241219520569, 0.03713241219520569, 0.9283102750778198, 0.38020551204681396, 0.4628588855266571, 0.16530674695968628, 0.21125541627407074, 0.13580705225467682, 0.6488559246063232, 0.20978035032749176, 0.7691946029663086, 0.023308927193284035, 0.14346687495708466, 0.07173343747854233, 0.789067804813385, 0.8194732069969177, 0.08194731920957565, 0.1638946384191513, 0.13003046810626984, 0.13003046810626984, 0.7801828384399414, 0.7315634489059448, 0.6612017154693604, 0.18513648211956024, 0.15868841111660004, 0.23739540576934814, 0.11869770288467407, 0.6330544352531433, 0.7588491439819336, 0.08571892976760864, 0.17143785953521729, 0.7714703679084778, 0.13826650381088257, 0.8295990228652954, 0.22750331461429596, 0.3150045871734619, 0.47250688076019287, 0.049898020923137665, 0.049898020923137665, 0.9231134057044983, 0.04738059639930725, 0.9239216446876526, 0.04738059639930725, 0.7601990699768066, 0.6259206533432007, 0.24073871970176697, 0.1324062943458557, 0.06328775733709335, 0.8649327158927917, 0.08438368141651154, 0.8187523484230042, 0.16375046968460083, 0.769855260848999, 0.06415461003780365, 0.19246381521224976, 0.10319707542657852, 0.8255766034126282, 0.8918206691741943, 0.6625509262084961, 0.12422829121351242, 0.20704716444015503, 0.07797858119010925, 0.8577644228935242, 0.07797858119010925, 0.1437685191631317, 0.8146882653236389, 0.04792284220457077, 0.8769124150276184, 0.834561824798584, 0.0951436460018158, 0.1585727483034134, 0.7611491680145264, 0.8712744116783142, 0.1742548942565918, 0.8157318830490112, 0.16076987981796265, 0.8038493394851685, 0.7944568395614624, 0.8350012302398682, 0.16700024902820587, 0.1467278152704239, 0.8803669214248657, 0.15110962092876434, 0.7555480599403381, 0.07555481046438217, 0.25158023834228516, 0.26637905836105347, 0.4883616268634796, 0.5681365132331848, 0.16833674907684326, 0.2525051236152649, 0.15343068540096283, 0.7364673018455505, 0.12274455279111862, 0.21373184025287628, 0.5246145129203796, 0.25259217619895935, 0.11411470919847488, 0.11411470919847488, 0.7988029718399048, 0.2693113088607788, 0.5800551176071167, 0.14501377940177917, 0.8937405943870544, 0.38486936688423157, 0.4989047646522522, 0.11403537541627884, 0.6064533591270447, 0.21307821571826935, 0.18029695749282837, 0.5783625245094299, 0.21793369948863983, 0.20116956532001495, 0.4662064015865326, 0.28980398178100586, 0.2520034611225128, 0.7781770825386047, 0.15563541650772095, 0.46413111686706543, 0.333222359418869, 0.20231357216835022, 0.11904799193143845, 0.8333359360694885, 0.14080864191055298, 0.09387242048978806, 0.7509793639183044, 0.27637752890586853, 0.5034019351005554, 0.21715378761291504, 0.18259061872959137, 0.18259061872959137, 0.6208081245422363, 0.429849773645401, 0.09769313037395477, 0.4689270257949829, 0.9277890920639038, 0.8937473297119141, 0.7697026133537292, 0.15394051373004913, 0.899010956287384, 0.08990109711885452, 0.08990109711885452, 0.21826817095279694, 0.06236233562231064, 0.7171668410301208, 0.11832888424396515, 0.8283021450042725, 0.4563918709754944, 0.27383512258529663, 0.26876410841941833, 0.5772833228111267, 0.2770959734916687, 0.16163931787014008, 0.47870364785194397, 0.23935182392597198, 0.282870352268219, 0.20577174425125122, 0.7716440558433533, 0.051442936062812805, 0.8732796311378479, 0.799213171005249, 0.8250413537025452, 0.08684646338224411, 0.13026969134807587, 0.7565130591392517, 0.05043420195579529, 0.20173680782318115, 0.5725963115692139, 0.28629815578460693, 0.14314907789230347, 0.3069508671760559, 0.33364224433898926, 0.34698793292045593, 0.061654604971408844, 0.061654604971408844, 0.8631644248962402, 0.15166525542736053, 0.6572161316871643, 0.2022203505039215, 0.548239529132843, 0.23836500942707062, 0.21452851593494415], \"Term\": [\"actual\", \"actual\", \"actual\", \"affect\", \"affect\", \"affect\", \"aint\", \"aint\", \"amid\", \"amid\", \"amid\", \"analog\", \"anthem\", \"april\", \"armi\", \"armi\", \"associ\", \"associ\", \"associ\", \"audienc\", \"backslid\", \"backslid\", \"backslid\", \"believ\", \"believ\", \"believ\", \"betray\", \"betray\", \"blame\", \"blame\", \"blame\", \"blue\", \"blue\", \"blue\", \"bollock\", \"bollock\", \"bollock\", \"bong\", \"bong\", \"bong\", \"boom\", \"boom\", \"boost\", \"boost\", \"boost\", \"bori\", \"bori\", \"bori\", \"bound\", \"brexitclock\", \"brexitcon\", \"brexitr\", \"brexitr\", \"brexitr\", \"britain\", \"britain\", \"britain\", \"british\", \"british\", \"british\", \"celebr\", \"celebr\", \"celebr\", \"chicken\", \"chicken\", \"chicken\", \"chlorin\", \"chlorin\", \"chlorin\", \"citizenship\", \"citizenship\", \"citizenship\", \"come\", \"come\", \"come\", \"confus\", \"confus\", \"confus\", \"continu\", \"continu\", \"continu\", \"countri\", \"countri\", \"countri\", \"cours\", \"cours\", \"cours\", \"crimin\", \"crimin\", \"crimin\", \"dead\", \"dead\", \"dead\", \"deal\", \"deal\", \"deal\", \"didnt\", \"didnt\", \"didnt\", \"document\", \"dont\", \"dont\", \"dont\", \"earlier\", \"editori\", \"elect\", \"elect\", \"elect\", \"electl\", \"emot\", \"enjoy\", \"enjoy\", \"enjoy\", \"equal\", \"equal\", \"equal\", \"european\", \"european\", \"european\", \"fara\", \"faulkland\", \"fincl\", \"flow\", \"forc\", \"forc\", \"forc\", \"fortnight\", \"fortnight\", \"frenchdutch\", \"frenchdutch\", \"fuck\", \"fuck\", \"fuck\", \"generat\", \"generat\", \"generat\", \"give\", \"give\", \"give\", \"go\", \"go\", \"go\", \"good\", \"good\", \"good\", \"gov\", \"gove\", \"govern\", \"govern\", \"govern\", \"groom\", \"guy\", \"guy\", \"guy\", \"handl\", \"handl\", \"handl\", \"happen\", \"happen\", \"happen\", \"hello\", \"horrend\", \"horrend\", \"hundr\", \"individu\", \"individu\", \"individu\", \"intaintedref\", \"intens\", \"ireland\", \"ireland\", \"ireland\", \"irish\", \"irish\", \"irish\", \"isnt\", \"isnt\", \"isnt\", \"johnson\", \"johnson\", \"johnson\", \"joke\", \"joke\", \"joke\", \"keir\", \"keir\", \"keir\", \"kick\", \"kick\", \"kick\", \"know\", \"know\", \"know\", \"labour\", \"labour\", \"labour\", \"laugh\", \"laugh\", \"leav\", \"leav\", \"leav\", \"legisln\", \"lie\", \"lie\", \"lie\", \"like\", \"like\", \"like\", \"littl\", \"littl\", \"littl\", \"live\", \"live\", \"live\", \"look\", \"look\", \"look\", \"lose\", \"lose\", \"lose\", \"love\", \"love\", \"love\", \"loveislandfin\", \"loveislandfin\", \"loveislandfin\", \"luke\", \"luke\", \"luke\", \"march\", \"march\", \"march\", \"mean\", \"mean\", \"mean\", \"mediadata\", \"membership\", \"membership\", \"memori\", \"minist\", \"minist\", \"minist\", \"monarchi\", \"movement\", \"movement\", \"movement\", \"musician\", \"musician\", \"musician\", \"need\", \"need\", \"need\", \"negoti\", \"negoti\", \"negoti\", \"nice\", \"nice\", \"nice\", \"niwelshscotland\", \"nodeal\", \"nodeal\", \"nodeal\", \"nonsens\", \"nonsens\", \"nonsens\", \"northern\", \"northern\", \"northern\", \"note\", \"note\", \"notmand\", \"occur\", \"occur\", \"occur\", \"ofelect\", \"parliament\", \"parliament\", \"parliament\", \"parthenon\", \"parthenon\", \"parti\", \"parti\", \"parti\", \"passport\", \"passport\", \"passport\", \"peopl\", \"peopl\", \"peopl\", \"perfidi\", \"perfidi\", \"petit\", \"petit\", \"petit\", \"pile\", \"pile\", \"pledg\", \"pledg\", \"pledg\", \"point\", \"point\", \"point\", \"politl\", \"porn\", \"porn\", \"porn\", \"porno\", \"porno\", \"porno\", \"post\", \"post\", \"post\", \"postbrexit\", \"postbrexit\", \"postbrexit\", \"pound\", \"pound\", \"pound\", \"pressur\", \"pressur\", \"pressur\", \"price\", \"price\", \"price\", \"push\", \"push\", \"push\", \"quebec\", \"racist\", \"racist\", \"racist\", \"realiti\", \"realiti\", \"realiti\", \"redefin\", \"reform\", \"reform\", \"reform\", \"refuge\", \"refuge\", \"remain\", \"remain\", \"remain\", \"remind\", \"remind\", \"remind\", \"reneg\", \"reneg\", \"reneg\", \"renew\", \"right\", \"right\", \"right\", \"risk\", \"risk\", \"risk\", \"robinson\", \"robinson\", \"roll\", \"roll\", \"roll\", \"sabotag\", \"sabotag\", \"satir\", \"say\", \"say\", \"say\", \"scheme\", \"scheme\", \"scheme\", \"servant\", \"servant\", \"servant\", \"sideshow\", \"sidestep\", \"sign\", \"sign\", \"sign\", \"smell\", \"smell\", \"sole\", \"spell\", \"spell\", \"sport\", \"sterl\", \"sterl\", \"stockpil\", \"stockpil\", \"sum\", \"sum\", \"sum\", \"support\", \"support\", \"support\", \"sure\", \"sure\", \"sure\", \"surpris\", \"surpris\", \"surpris\", \"talk\", \"talk\", \"talk\", \"tape\", \"tape\", \"tape\", \"tell\", \"tell\", \"tell\", \"thanx\", \"that\", \"that\", \"that\", \"thing\", \"thing\", \"thing\", \"think\", \"think\", \"think\", \"time\", \"time\", \"time\", \"tommi\", \"tommi\", \"tori\", \"tori\", \"tori\", \"toughen\", \"toughen\", \"tour\", \"tour\", \"tour\", \"trade\", \"trade\", \"trade\", \"travel\", \"travel\", \"travel\", \"trump\", \"trump\", \"trump\", \"ukrain\", \"urgt\", \"valid\", \"valid\", \"victori\", \"victori\", \"victori\", \"view\", \"view\", \"view\", \"visit\", \"visit\", \"vote\", \"vote\", \"vote\", \"voter\", \"voter\", \"voter\", \"want\", \"want\", \"want\", \"warn\", \"warn\", \"warn\", \"waster\", \"wear\", \"white\", \"white\", \"white\", \"win\", \"win\", \"win\", \"wont\", \"wont\", \"wont\", \"work\", \"work\", \"work\", \"workingintheeu\", \"workingintheeu\", \"workingintheeu\", \"wrong\", \"wrong\", \"wrong\", \"year\", \"year\", \"year\"]}, \"R\": 30, \"lambda.step\": 0.01, \"plot.opts\": {\"xlab\": \"PC1\", \"ylab\": \"PC2\"}, \"topic.order\": [3, 1, 2]};\n\nfunction LDAvis_load_lib(url, callback){\n  var s = document.createElement('script');\n  s.src = url;\n  s.async = true;\n  s.onreadystatechange = s.onload = callback;\n  s.onerror = function(){console.warn(\"failed to load library \" + url);};\n  document.getElementsByTagName(\"head\")[0].appendChild(s);\n}\n\nif(typeof(LDAvis) !== \"undefined\"){\n   // already loaded: just create the visualization\n   !function(LDAvis){\n       new LDAvis(\"#\" + \"ldavis_el2101623755498527446941370319\", ldavis_el2101623755498527446941370319_data);\n   }(LDAvis);\n}else if(typeof define === \"function\" && define.amd){\n   // require.js is available: use it to load d3/LDAvis\n   require.config({paths: {d3: \"https://cdnjs.cloudflare.com/ajax/libs/d3/3.5.5/d3.min\"}});\n   require([\"d3\"], function(d3){\n      window.d3 = d3;\n      LDAvis_load_lib(\"https://cdn.rawgit.com/bmabey/pyLDAvis/files/ldavis.v1.0.0.js\", function(){\n        new LDAvis(\"#\" + \"ldavis_el2101623755498527446941370319\", ldavis_el2101623755498527446941370319_data);\n      });\n    });\n}else{\n    // require.js not available: dynamically load d3 & LDAvis\n    LDAvis_load_lib(\"https://cdnjs.cloudflare.com/ajax/libs/d3/3.5.5/d3.min.js\", function(){\n         LDAvis_load_lib(\"https://cdn.rawgit.com/bmabey/pyLDAvis/files/ldavis.v1.0.0.js\", function(){\n                 new LDAvis(\"#\" + \"ldavis_el2101623755498527446941370319\", ldavis_el2101623755498527446941370319_data);\n            })\n         });\n}\n</script>"
     },
     "metadata": {},
     "output_type": "execute_result",
     "execution_count": 42
    }
   ],
   "source": [
    "# Visualise the topics to explore\n",
    "import pyLDAvis\n",
    "import pyLDAvis.gensim as pg\n",
    "pyLDAvis.enable_notebook()\n",
    "vis = pg.prepare(lda_model_tfidf, tfidf_corpus, dictionary)\n",
    "vis"
   ]
  },
  {
   "cell_type": "markdown",
   "metadata": {
    "pycharm": {
     "name": "#%% md\n"
    }
   },
   "source": [
    "There does not appear to be overlap between the topics.\n",
    "\n",
    "The first topic appears to be the risk to the EU trade deal if the UK goes against special arrangements made for Northern Ireland (The Guardian, \n",
    "2020). This topic will be named 'Northern Ireland Border'\n",
    "\n",
    "Topics 2 and 3 are examined below"
   ]
  },
  {
   "cell_type": "code",
   "execution_count": 43,
   "metadata": {
    "pycharm": {
     "is_executing": false,
     "name": "#%%\n"
    }
   },
   "outputs": [
    {
     "name": "stdout",
     "text": [
      "{'march': 17, 'vote': 50, 'happen': 84, 'occur': 85, 'remind': 86, 'countri': 91, 'like': 146, 'know': 303, 'postbrexit': 375, 'bori': 627}\n",
      "{'peopl': 8, 'want': 10, 'right': 43, 'vote': 50, 'think': 110, 'like': 146, 'year': 183, 'passport': 202, 'say': 376, 'come': 620}\n"
     ],
     "output_type": "stream"
    }
   ],
   "source": [
    "from typing import Dict, Tuple\n",
    "\n",
    "def get_ids(word_list: List[str]) -> Dict:\n",
    "    \"\"\"\n",
    "    Searches dictionary for each word in list and returns dictionary\n",
    "    of the words with their index in the dictionary\n",
    "    \"\"\"\n",
    "    word_ids = {}\n",
    "    for key, value in dictionary.items():\n",
    "        for wrd in word_list:\n",
    "            if value == wrd:\n",
    "                word_ids[wrd] = key\n",
    "        if len(word_ids)==len(word_list):\n",
    "            # Stop searching dictionary if all words are found\n",
    "            return word_ids\n",
    "        \n",
    "# Look for words from topics in dictionary to fetch their ids\n",
    "word_ids_1 = get_ids([x[0] for x in lda_model_tuned.show_topic(1)])\n",
    "word_ids_2 = get_ids([x[0] for x in lda_model_tuned.show_topic(2)])\n",
    "print(word_ids_1)\n",
    "print(word_ids_2)"
   ]
  },
  {
   "cell_type": "code",
   "execution_count": 44,
   "metadata": {
    "pycharm": {
     "is_executing": false,
     "name": "#%%\n"
    }
   },
   "outputs": [
    {
     "name": "stdout",
     "text": [
      "[9, 40, 203, 555, 701, 749, 859, 1308, 1642, 1885, 2152, 2506, 2548, 2554, 2715, 2733, 2857, 3112, 3284, 3347, 4078, 4255, 4258, 4320, 4933, 4936, 5005, 5138, 5152, 5334, 5666, 5942, 5972, 6394, 6419, 6538, 6694, 6887, 7239, 7276, 7453, 7501, 7584, 7751, 7831, 8120, 8198, 8244, 8319, 8797, 9264, 9347, 9353, 9363, 9382, 9666, 9668, 9677, 9808, 9814, 10400]\n",
      "[110, 243, 321, 476, 731, 1141, 1433, 1522, 1574, 2039, 2539, 3047, 3094, 3276, 3393, 3828, 3910, 3979, 4236, 4301, 4638, 4668, 4751, 5288, 5337, 5542, 5888, 6050, 6077, 6090, 6886, 7399, 9184, 9717, 9724, 10289]\n"
     ],
     "output_type": "stream"
    }
   ],
   "source": [
    "def get_tweets_with_words(word_id_dict: Dict) -> List:\n",
    "    \"\"\"\n",
    "    Accepts list of indices for words in dictionary, and searches\n",
    "    BOW corpus of Tweets for any containing 4 or more of the words\n",
    "    from the list. Returns indices of corpus for each of these\n",
    "    lists where 4+ words are found. \n",
    "    \"\"\"\n",
    "    tweet_locs = []\n",
    "    # iterate through BOW corpus\n",
    "    for i in range(len(bow_corpus)):\n",
    "        count = 0\n",
    "        # Check whether index of word in corpus matches one in list\n",
    "        for num_tuple in bow_corpus[i]:\n",
    "            for key, value in word_id_dict.items():\n",
    "                if num_tuple[0]==value:\n",
    "                    # Count each hit\n",
    "                    count += 1\n",
    "        # Any tweet with more than 3 appropriate words is added to the list to be returned\n",
    "        if count > 3:\n",
    "            tweet_locs.append(i)\n",
    "    return tweet_locs\n",
    "            \n",
    "# Find ids of tweets containing 4+ words from topics 2 and 3\n",
    "tweet_locs_1 = get_tweets_with_words(word_ids_1)\n",
    "tweet_locs_2 = get_tweets_with_words(word_ids_2)\n",
    "print(tweet_locs_1)\n",
    "print(tweet_locs_2)"
   ]
  },
  {
   "cell_type": "code",
   "execution_count": 45,
   "metadata": {
    "pycharm": {
     "is_executing": false,
     "name": "#%%\n"
    }
   },
   "outputs": [
    {
     "name": "stdout",
     "text": [
      "Tweets from topic 1\n",
      " hi just a reminder that brexit has not happened yet it is due to occur on the th march \n",
      " hi just a reminder that brexit has not happened yet it is due to occur on the th march \n",
      " hi just a reminder that brexit has not happened yet it is due to occur on the th march \n",
      " hi just a reminder that brexit has not happened yet it is due to occur on the th march \n",
      " hi just a reminder that brexit has not happened yet it is due to occur on the th march \n",
      " hi just a reminder that brexit has not happened yet it is due to occur on the th march \n",
      " hi just a reminder that brexit has not happened yet it is due to occur on the th march \n",
      " hi just a reminder that brexit has not happened yet it is due to occur on the th march \n",
      " when brexit happened many of us blamed only the politicians for their lies and concluded that the  were guilty only of being deceived   that was condescending  wrong whoever voted for these rogues are knowingly complicit  accountable for what this country has become\n",
      " hi just a reminder that brexit has not happened yet it is due to occur on the th march \n",
      " hi just a reminder that brexit has not happened yet it is due to occur on the th march \n",
      "\n",
      "\n",
      "Tweets from topic 2\n",
      " the key issue for labour was not brexit but corbyn to many people who i know who wouldnt vote tory due to brexitboris but on the flip side they couldnt vote labour because of corbyn that is why labour lost seats choose a leader like him and your out of power for years\n",
      " i think this tweet says it all re the bbc from many right wingleavers perspective bbc still trying to prove it has a variety of views as it did over last  years \n",
      " i agree that we must allow views like this to be aired  its silencing such opinions that leads to brexit to the rise of the right etc  what i do think that bbcqt needs to do though is choose people who live in the host city  thats the point of visiting these cities\n",
      " hun you need to pop into the brexit supporting groups on fb for people wanting to leave theyre full of people happy theyve at last got blue passports have border control i mean like we ever lost it lol and crying that all immigration needs to stop as we are sinking go see\n",
      "right after brexit this girl made a horrible racist comment regarding slavery immigrants muslims in the uk  so sad  that people still think like this  coronavirus tysonwilder loveislandfinal rt \n",
      " as an american do i understand brexit correctly  yall voted to leave the eu but want to keep all the benefits of the eu except that bit where poor people can enter the country   cause thats what it looks like from over here\n",
      " in ten years netflix will make a series documenting brexit derangement in remoaners and their cult like worship of a fderalist entity people will watch it and think what ever were remoaners thinking\n",
      " gammon is funny because idiots like this think its an insult when actually no one sees it as an insult just a childish bitter comment and many just laugh at it whilst it angers twats like miffy who cant understand the real reason people voted for brexit i wish i voted leave\n",
      " do you think that will be the case with rees mog redwood   all your other little brexit heroes that despise  people like you  regularly vote against equality \n",
      " this is what pisses me off before it was the policies were right but people didnt like corbyn or people just wanted brexit but now that bernies winning theyre saying here we go again people will reject socialism like they did here theyll just say anything\n",
      " how do you know thst someone who voted labour wanted or didnt want brexit people like you are so deluded its unreal\n"
     ],
     "output_type": "stream"
    }
   ],
   "source": [
    "def print_sample(tweet_locs: List[int]) -> None:\n",
    "    \"\"\"\n",
    "    Iterates through list of tweet ids, locates the id in the \n",
    "    DataFrame of Tweets and prints the text of the Tweet.\n",
    "    \"\"\"\n",
    "    c = 0\n",
    "    for tweet_id in tweet_locs:\n",
    "        print(df.loc[tweet_id,'tweet_text'])\n",
    "        c+=1\n",
    "        if c>10:\n",
    "            break\n",
    "\n",
    "print(\"Tweets from topic 1\")\n",
    "print_sample(tweet_locs_1)\n",
    "print(\"\\n\\nTweets from topic 2\")\n",
    "print_sample(tweet_locs_2)"
   ]
  },
  {
   "cell_type": "markdown",
   "metadata": {
    "pycharm": {
     "name": "#%% md\n"
    }
   },
   "source": [
    "Topic 2 seems to have been influenced by the action of a Bot (since deleted but a footprint\n",
    "still exists on Google's search page (BrexitBot, 2020). The Bot automatically responds to Tweets discussing\n",
    "the state of affairs after Brexit. It also seems to be outdated.\n",
    "\n",
    "To more closely examine the third topic, Tweets containing the three most frequent terms were \n",
    "found."
   ]
  },
  {
   "cell_type": "code",
   "execution_count": 46,
   "metadata": {
    "pycharm": {
     "name": "#%%\n",
     "is_executing": false
    }
   },
   "outputs": [
    {
     "name": "stdout",
     "text": [
      "Tweets from topic 2 using only most common words\n",
      " i despise him and he despises people like me hes said plenty about us labelling us and not forgetting that sabisky fellow he let in no the one who thinks all underclass should be on compulsory contraception he appealled for brexit those borrowed votes are going down fast\n",
      " love croatia but im pretty sure when people voted for brexit it wasnt because they were thinking how nice it would be to have a blue passport all the remainers saying we could have had one anyway really are missing the pointagain\n",
      " where did i mention anyones race i said this is how a majority of people who voted for brexit think\n",
      "tweet_id                                                   7502\n",
      "tweet_text     i despise him and he despises people like me ...\n",
      "Name: 3276, dtype: object\n",
      "tweet_id                                                  10219\n",
      "tweet_text     love croatia but im pretty sure when people v...\n",
      "Name: 3828, dtype: object\n",
      "tweet_id                                                   5165\n",
      "tweet_text     where did i mention anyones race i said this ...\n",
      "Name: 6077, dtype: object\n"
     ],
     "output_type": "stream"
    }
   ],
   "source": [
    "# Use just highest frequency words\n",
    "word_ids_2_most_common = get_ids(['vote', 'think', 'say', 'peopl'])\n",
    "tweet_locs_2_most_common = get_tweets_with_words(word_ids_2_most_common)\n",
    "print(\"Tweets from topic 2 using only most common words\")\n",
    "print_sample(tweet_locs_2_most_common)\n",
    "for tweet in tweet_locs_2_most_common:\n",
    "    print(df.loc[tweet, ['tweet_id', 'tweet_text']])"
   ]
  },
  {
   "cell_type": "markdown",
   "metadata": {},
   "source": [
    "This seems to be a discussion around what people voted for in the \n",
    "referendum of 2016 - with the announcement of blue passports being \n",
    "rolled out from March leading to people asking what Brexit means to \n",
    "people and what \"people who voted for Brexit think\".\n",
    "\n",
    "Finally the topics will be visualised."
   ]
  },
  {
   "cell_type": "code",
   "execution_count": 47,
   "metadata": {
    "pycharm": {
     "is_executing": false,
     "name": "#%%\n"
    }
   },
   "outputs": [],
   "source": [
    "from brexittweets.config import plots_output_path as pltpath\n",
    "from wordcloud import WordCloud\n",
    "\n",
    "def word_cloud_dict(topic_list: List[Tuple]) -> Dict:\n",
    "    \"\"\"\n",
    "    Accept list of tuples (word, freq) for each word in topic\n",
    "    and assigns words and frequencies to dictionary \n",
    "    \"\"\"\n",
    "    topic_dict = {}\n",
    "    for wrd, frq in topic_list:\n",
    "        topic_dict[wrd] = frq\n",
    "    return topic_dict\n",
    "    \n",
    "    \n",
    "topic_0_dict = word_cloud_dict(lda_model_tuned.show_topic(0))\n",
    "topic_1_dict = word_cloud_dict(lda_model_tuned.show_topic(1))\n",
    "topic_2_dict = word_cloud_dict(lda_model_tuned.show_topic(2))"
   ]
  },
  {
   "cell_type": "code",
   "execution_count": 48,
   "metadata": {
    "pycharm": {
     "is_executing": false,
     "name": "#%%\n"
    }
   },
   "outputs": [
    {
     "data": {
      "text/plain": "<Figure size 432x288 with 1 Axes>",
      "image/png": "[encoded data removed]"
     },
     "metadata": {
      "needs_background": "light"
     },
     "output_type": "display_data"
    },
    {
     "data": {
      "text/plain": "<Figure size 432x288 with 1 Axes>",
      "image/png": "[encoded data removed]"
     },
     "metadata": {
      "needs_background": "light"
     },
     "output_type": "display_data"
    },
    {
     "data": {
      "text/plain": "<Figure size 432x288 with 1 Axes>",
      "image/png": "[encoded data removed]"
     },
     "metadata": {
      "needs_background": "light"
     },
     "output_type": "display_data"
    }
   ],
   "source": [
    "def show_wordcloud(topic_name: str, topic_dict: Dict) -> None:\n",
    "    \"\"\"\n",
    "    Accepts name of topic and dictionary of words and frequencies.\n",
    "    Plots words and frequencies as a WordCloud object using\n",
    "    matplotlib. Saves the figure to file using 'topic' as the\n",
    "    filename (so topic should contain only A-Z, a-z, 0-9, _, -)\n",
    "    \"\"\"\n",
    "    wc = WordCloud(font_path='brexittweets/Roboto-Medium.ttf',\n",
    "               background_color='white',\n",
    "               colormap='winter')\n",
    "    plt.figure()\n",
    "    plt.imshow(wc.fit_words(topic_dict))\n",
    "    plt.axis(\"off\")\n",
    "    title = ' '.join(topic_name.split('_'))\n",
    "    plt.title(title)\n",
    "    try:\n",
    "        plt.savefig(pltpath + f'/word_clouds/{topic_name}.png')\n",
    "    except FileNotFoundError:\n",
    "        print(\"Error: {topic} not saved to file.\")\n",
    "        print(\"Invalid filename - please do not include '/' or '\\'\")\n",
    "    plt.show()\n",
    "\n",
    "show_wordcloud(\"Northern_Ireland_Border\", topic_0_dict)\n",
    "show_wordcloud(\"Brexit_has_happened\", topic_1_dict)\n",
    "show_wordcloud(\"What_did_you_vote_for\", topic_2_dict)"
   ]
  },
  {
   "cell_type": "markdown",
   "metadata": {
    "pycharm": {
     "name": "#%% md\n"
    }
   },
   "source": [
    "## References\n",
    "\n",
    "BBC News (2019a) 'General Election 2019: A really simple guide', available at\n",
    "[https://www.bbc.co.uk/news/uk-politics-49826655](https://www.bbc.co.uk/news/uk-politics-49826655)\n",
    "[accessed 16/03/20]\n",
    "\n",
    "BBC News (2019b) 'General election 2019: Boris Johnson vows to 'forge a new Britain'', available at\n",
    "[https://www.bbc.co.uk/news/election-2019-50532000](https://www.bbc.co.uk/news/election-2019-50532000)\n",
    "[accessed 16/03/20]\n",
    "\n",
    "BBC News (2020a) 'Brexit: NI deadline is 'almost impossible' to meet', available at \n",
    "[https://www.bbc.co.uk/news/uk-northern-ireland-51093782](https://www.bbc.co.uk/news/uk-northern-ireland-51093782)\n",
    "[accessed 16/03/20]\n",
    "\n",
    "BBC News (2020b) 'New blue British passport rollout to begin in March', \n",
    "available at [https://www.bbc.co.uk/news/uk-51585018](https://www.bbc.co.uk/news/uk-51585018) \n",
    "[accessed 16/03/20]\n",
    "\n",
    "Prabhakaran, s. (2018) 'Topic Modeling with Gensim (Python)', *Machine Learning Plus* [online] available at\n",
    "[https://www.machinelearningplus.com/nlp/topic-modeling-gensim-python/](https://www.machinelearningplus.com/nlp/topic-modeling-gensim-python/)\n",
    "[accessed 09/03/2020]\n",
    "\n",
    "The Guardian (2020) 'Brexit: EU and US trade deals 'at risk' if UK reneges on Northern Ireland pledges', available at\n",
    "[https://www.theguardian.com/politics/2020/feb/23/brexit-uk-reneging-on-northern-ireland-pledges-risks-trade-deals-with-us-and-eu](https://www.theguardian.com/politics/2020/feb/23/brexit-uk-reneging-on-northern-ireland-pledges-risks-trade-deals-with-us-and-eu)\n",
    "[accessed 16/03/20]\n",
    "\n",
    "BrexitBot (2020) 'Hi, just a reminder that Brexit has not happened yet. It is due to occur on the 29th March 2019',\n",
    "Twitter [online] available at \n",
    "[https://twitter.com/hasnthappened/with_replies](https://twitter.com/hasnthappened/with_replies) [accessed 10/04/2020] "
   ]
  }
 ],
 "metadata": {
  "kernelspec": {
   "display_name": "PyCharm (brexittweetsproject)",
   "language": "python",
   "name": "pycharm-1fb690fb"
  },
  "language_info": {
   "codemirror_mode": {
    "name": "ipython",
    "version": 3
   },
   "file_extension": ".py",
   "mimetype": "text/x-python",
   "name": "python",
   "nbconvert_exporter": "python",
   "pygments_lexer": "ipython3",
   "version": "3.7.6"
  },
  "pycharm": {
   "stem_cell": {
    "cell_type": "raw",
    "source": [],
    "metadata": {
     "collapsed": false
    }
   }
  }
 },
 "nbformat": 4,
 "nbformat_minor": 1
}